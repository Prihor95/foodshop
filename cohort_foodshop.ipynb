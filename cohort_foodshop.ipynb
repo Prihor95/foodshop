{
 "cells": [
  {
   "cell_type": "markdown",
   "metadata": {},
   "source": [
    "# Descripción del proyecto"
   ]
  },
  {
   "cell_type": "markdown",
   "metadata": {},
   "source": [
    "Trabajas en una empresa emergente que vende productos alimenticios. Debes investigar el comportamiento del usuario para la aplicación de la empresa.\n",
    "\n",
    "Primero, estudia el embudo de ventas. Descubre cómo los usuarios y las usuarias llegan a la etapa de compra. ¿Cuántos usuarios o usuarias realmente llegan a esta etapa? ¿Cuántos se atascan en etapas anteriores? ¿Qué etapas en particular?\n",
    "\n",
    "Luego, observa los resultados de un test A/A/B. (Sigue leyendo para obtener más información sobre los test A/A/B). Al equipo de diseño le gustaría cambiar las fuentes de toda la aplicación, pero la gerencia teme que los usuarios y las usuarias piensen que el nuevo diseño es intimidante. Por ello, deciden tomar una decisión basada en los resultados de un test A/A/B.\n",
    "\n",
    "Los usuarios se dividen en tres grupos: dos grupos de control obtienen las fuentes antiguas y un grupo de prueba obtiene las nuevas. Descubre qué conjunto de fuentes produce mejores resultados.\n",
    "\n",
    "Crear dos grupos A tiene ciertas ventajas. Podemos establecer el principio de que solo confiaremos en la exactitud de nuestras pruebas cuando los dos grupos de control sean similares. Si hay diferencias significativas entre los grupos A, esto puede ayudarnos a descubrir factores que pueden estar distorsionando los resultados. La comparación de grupos de control también nos dice cuánto tiempo y datos necesitaremos cuando realicemos más tests.\n",
    "\n",
    "Utilizarás el mismo dataset para el análisis general y para el análisis A/A/B. En proyectos reales, los experimentos se llevan a cabo constantemente. El equipo de análisis estudia la calidad de una aplicación utilizando datos generales, sin prestar atención a si los usuarios y las usuarias participan en experimentos."
   ]
  },
  {
   "cell_type": "markdown",
   "metadata": {},
   "source": [
    "## Descripción de los datos"
   ]
  },
  {
   "cell_type": "markdown",
   "metadata": {},
   "source": [
    "Cada entrada de registro es una acción de usuario o un evento.\n",
    "\n",
    "- *EventName:* nombre del evento.\n",
    "- *DeviceIDHash:* identificador de usuario unívoco.\n",
    "- *EventTimestamp:* hora del evento.\n",
    "- *ExpId:* número de experimento: 246 y 247 son los grupos de control, 248 es el grupo de prueba."
   ]
  },
  {
   "cell_type": "code",
   "execution_count": 39,
   "metadata": {},
   "outputs": [],
   "source": [
    "#Importar librerias\n",
    "import pandas as pd\n",
    "from datetime import datetime\n",
    "import seaborn as sns\n",
    "import matplotlib.pyplot as plt\n",
    "import numpy as np\n",
    "from scipy import stats as st\n",
    "from scipy.stats import ttest_ind"
   ]
  },
  {
   "cell_type": "code",
   "execution_count": 40,
   "metadata": {},
   "outputs": [],
   "source": [
    "#Importar datos \n",
    "logs_exp= pd.read_csv('/datasets/logs_exp_us.csv',sep='\\t')"
   ]
  },
  {
   "cell_type": "code",
   "execution_count": 41,
   "metadata": {},
   "outputs": [
    {
     "name": "stdout",
     "output_type": "stream",
     "text": [
      "<class 'pandas.core.frame.DataFrame'>\n",
      "RangeIndex: 244126 entries, 0 to 244125\n",
      "Data columns (total 4 columns):\n",
      " #   Column          Non-Null Count   Dtype \n",
      "---  ------          --------------   ----- \n",
      " 0   EventName       244126 non-null  object\n",
      " 1   DeviceIDHash    244126 non-null  int64 \n",
      " 2   EventTimestamp  244126 non-null  int64 \n",
      " 3   ExpId           244126 non-null  int64 \n",
      "dtypes: int64(3), object(1)\n",
      "memory usage: 7.5+ MB\n"
     ]
    }
   ],
   "source": [
    "logs_exp.info()"
   ]
  },
  {
   "cell_type": "code",
   "execution_count": 42,
   "metadata": {},
   "outputs": [
    {
     "data": {
      "text/plain": [
       "Index(['EventName', 'DeviceIDHash', 'EventTimestamp', 'ExpId'], dtype='object')"
      ]
     },
     "execution_count": 42,
     "metadata": {},
     "output_type": "execute_result"
    }
   ],
   "source": [
    "logs_exp.columns"
   ]
  },
  {
   "cell_type": "code",
   "execution_count": 43,
   "metadata": {},
   "outputs": [
    {
     "data": {
      "text/plain": [
       "236575"
      ]
     },
     "execution_count": 43,
     "metadata": {},
     "output_type": "execute_result"
    }
   ],
   "source": [
    "logs_exp['DeviceIDHash'].duplicated().sum()"
   ]
  },
  {
   "cell_type": "markdown",
   "metadata": {},
   "source": [
    "## Preparar los datos para el análisis\n"
   ]
  },
  {
   "cell_type": "markdown",
   "metadata": {},
   "source": [
    "### Cambia el nombre de las columnas de manera que sea conveniente para ti"
   ]
  },
  {
   "cell_type": "code",
   "execution_count": 44,
   "metadata": {},
   "outputs": [
    {
     "data": {
      "text/plain": [
       "Index(['event', 'user_id', 'event_date', 'exp_id'], dtype='object')"
      ]
     },
     "execution_count": 44,
     "metadata": {},
     "output_type": "execute_result"
    }
   ],
   "source": [
    "#Se renombran las columnas\n",
    "logs_exp.rename(columns={'DeviceIDHash': 'user_id', 'EventName':'event','EventTimestamp':'event_date','ExpId':'exp_id'}, inplace=True)\n",
    "logs_exp.columns"
   ]
  },
  {
   "cell_type": "markdown",
   "metadata": {},
   "source": [
    "### Comprueba si hay tipos de datos y valores ausentes. Corrige los datos si es necesario"
   ]
  },
  {
   "cell_type": "code",
   "execution_count": 78,
   "metadata": {},
   "outputs": [],
   "source": [
    "#logs_exp['event'].isna().sum()"
   ]
  },
  {
   "cell_type": "markdown",
   "metadata": {},
   "source": [
    "### Agrega una columna de fecha y hora y una columna separada para las fechas"
   ]
  },
  {
   "cell_type": "code",
   "execution_count": 46,
   "metadata": {},
   "outputs": [
    {
     "data": {
      "text/plain": [
       "0        2019-07-25 04:43:36\n",
       "1        2019-07-25 11:11:42\n",
       "2        2019-07-25 11:28:47\n",
       "3        2019-07-25 11:28:47\n",
       "4        2019-07-25 11:48:42\n",
       "                 ...        \n",
       "244121   2019-08-07 21:12:25\n",
       "244122   2019-08-07 21:13:59\n",
       "244123   2019-08-07 21:14:43\n",
       "244124   2019-08-07 21:14:58\n",
       "244125   2019-08-07 21:15:17\n",
       "Name: event_date, Length: 244126, dtype: datetime64[ns]"
      ]
     },
     "execution_count": 46,
     "metadata": {},
     "output_type": "execute_result"
    }
   ],
   "source": [
    "logs_exp['event_date']= pd.to_datetime(logs_exp[\"event_date\"], unit='s')\n",
    "logs_exp['event_date']"
   ]
  },
  {
   "cell_type": "code",
   "execution_count": 47,
   "metadata": {},
   "outputs": [],
   "source": [
    "#Se crea la columna fecha para almacenar la fecha\n",
    "logs_exp['date']= logs_exp[\"event_date\"].values.astype(dtype='datetime64[D]')\n",
    "#Se crea la columna hora para almacenar las horas\n",
    "logs_exp['hour']=logs_exp['event_date'].apply(lambda x: x.time())"
   ]
  },
  {
   "cell_type": "code",
   "execution_count": 48,
   "metadata": {},
   "outputs": [
    {
     "data": {
      "text/html": [
       "<div>\n",
       "<style scoped>\n",
       "    .dataframe tbody tr th:only-of-type {\n",
       "        vertical-align: middle;\n",
       "    }\n",
       "\n",
       "    .dataframe tbody tr th {\n",
       "        vertical-align: top;\n",
       "    }\n",
       "\n",
       "    .dataframe thead th {\n",
       "        text-align: right;\n",
       "    }\n",
       "</style>\n",
       "<table border=\"1\" class=\"dataframe\">\n",
       "  <thead>\n",
       "    <tr style=\"text-align: right;\">\n",
       "      <th></th>\n",
       "      <th>event</th>\n",
       "      <th>user_id</th>\n",
       "      <th>event_date</th>\n",
       "      <th>exp_id</th>\n",
       "      <th>date</th>\n",
       "      <th>hour</th>\n",
       "    </tr>\n",
       "  </thead>\n",
       "  <tbody>\n",
       "    <tr>\n",
       "      <th>0</th>\n",
       "      <td>MainScreenAppear</td>\n",
       "      <td>4575588528974610257</td>\n",
       "      <td>2019-07-25 04:43:36</td>\n",
       "      <td>246</td>\n",
       "      <td>2019-07-25</td>\n",
       "      <td>04:43:36</td>\n",
       "    </tr>\n",
       "    <tr>\n",
       "      <th>1</th>\n",
       "      <td>MainScreenAppear</td>\n",
       "      <td>7416695313311560658</td>\n",
       "      <td>2019-07-25 11:11:42</td>\n",
       "      <td>246</td>\n",
       "      <td>2019-07-25</td>\n",
       "      <td>11:11:42</td>\n",
       "    </tr>\n",
       "  </tbody>\n",
       "</table>\n",
       "</div>"
      ],
      "text/plain": [
       "              event              user_id          event_date  exp_id  \\\n",
       "0  MainScreenAppear  4575588528974610257 2019-07-25 04:43:36     246   \n",
       "1  MainScreenAppear  7416695313311560658 2019-07-25 11:11:42     246   \n",
       "\n",
       "        date      hour  \n",
       "0 2019-07-25  04:43:36  \n",
       "1 2019-07-25  11:11:42  "
      ]
     },
     "execution_count": 48,
     "metadata": {},
     "output_type": "execute_result"
    }
   ],
   "source": [
    "logs_exp.head(2)"
   ]
  },
  {
   "cell_type": "markdown",
   "metadata": {},
   "source": [
    "### Estudiar y comprobar los datos"
   ]
  },
  {
   "cell_type": "markdown",
   "metadata": {},
   "source": [
    "#### ¿Cuántos eventos hay en los registros?"
   ]
  },
  {
   "cell_type": "code",
   "execution_count": 49,
   "metadata": {},
   "outputs": [
    {
     "name": "stdout",
     "output_type": "stream",
     "text": [
      "\n",
      "Número de eventos totales: 244126\n",
      "\n",
      "Eventos por tipo de evento: event\n",
      "CartScreenAppear            42731\n",
      "MainScreenAppear           119205\n",
      "OffersScreenAppear          46825\n",
      "PaymentScreenSuccessful     34313\n",
      "Tutorial                     1052\n",
      "Name: user_id, dtype: int64\n",
      "\n"
     ]
    }
   ],
   "source": [
    "print(f\"\"\"\n",
    "Número de eventos totales: {len(logs_exp)}\n",
    "\n",
    "Eventos por tipo de evento: {logs_exp.groupby(\"event\")[\"user_id\"].count()}\n",
    "\"\"\")"
   ]
  },
  {
   "cell_type": "markdown",
   "metadata": {},
   "source": [
    "#### ¿Cuántos usuarios y usuarias hay en los registros?"
   ]
  },
  {
   "cell_type": "code",
   "execution_count": 50,
   "metadata": {},
   "outputs": [
    {
     "name": "stdout",
     "output_type": "stream",
     "text": [
      "\n",
      "Usuarios únicos: 7551\n",
      "\n"
     ]
    }
   ],
   "source": [
    "print(f\"\"\"\n",
    "Usuarios únicos: {logs_exp[\"user_id\"].nunique()}\n",
    "\"\"\")"
   ]
  },
  {
   "cell_type": "markdown",
   "metadata": {},
   "source": [
    "#### ¿Cuál es el promedio de eventos por usuario?"
   ]
  },
  {
   "cell_type": "code",
   "execution_count": 51,
   "metadata": {},
   "outputs": [
    {
     "name": "stdout",
     "output_type": "stream",
     "text": [
      "\n",
      "Promedio de eventos por usuario: 32.3303\n",
      "\n"
     ]
    }
   ],
   "source": [
    "print(f\"\"\"\n",
    "Promedio de eventos por usuario: {round(len(logs_exp) / logs_exp[\"user_id\"].nunique(), 4)}\n",
    "\"\"\")\n"
   ]
  },
  {
   "cell_type": "markdown",
   "metadata": {},
   "source": [
    "#### ¿Qué periodo de tiempo cubren los datos? Encuentra la fecha máxima y mínima. Traza un histograma por fecha y hora. ¿Puedes tener seguridad de que tienes datos igualmente completos para todo el periodo? Los eventos más antiguos podrían terminar en los registros de algunos usuarios o usuarias por razones técnicas y esto podría sesgar el panorama general. Encuentra el momento en el que los datos comienzan a estar completos e ignora la sección anterior. ¿Qué periodo representan realmente los datos?"
   ]
  },
  {
   "cell_type": "code",
   "execution_count": 52,
   "metadata": {},
   "outputs": [
    {
     "name": "stdout",
     "output_type": "stream",
     "text": [
      "\n",
      "Fecha mínima: 2019-07-25 00:00:00\n",
      "Fecha máxima: 2019-08-07 00:00:00\n",
      "\n"
     ]
    },
    {
     "data": {
      "image/png": "[encoded data removed]",
      "text/plain": [
       "<Figure size 640x480 with 1 Axes>"
      ]
     },
     "metadata": {},
     "output_type": "display_data"
    },
    {
     "data": {
      "text/plain": [
       "<Figure size 640x480 with 0 Axes>"
      ]
     },
     "metadata": {},
     "output_type": "display_data"
    }
   ],
   "source": [
    "print(f\"\"\"\n",
    "Fecha mínima: {logs_exp[\"date\"].min()}\n",
    "Fecha máxima: {logs_exp[\"date\"].max()}\n",
    "\"\"\")\n",
    "\n",
    "logs_exp[\"event_date\"].hist(bins=100)\n",
    "plt.xticks(rotation=45)  # Rotación de 45 grados\n",
    "plt.show()\n",
    "plt.clf()"
   ]
  },
  {
   "cell_type": "markdown",
   "metadata": {},
   "source": [
    "Como podemos observar en el gráfico contamos con pocos datos antes del 31 de julio del 2019, por lo que podríamos excluirlos ya que para nuestro experimiento debemos intentar tener las mismas condiciones en las tres pruebas."
   ]
  },
  {
   "cell_type": "code",
   "execution_count": 53,
   "metadata": {},
   "outputs": [
    {
     "data": {
      "image/png": "[encoded data removed]",
      "text/plain": [
       "<Figure size 640x480 with 1 Axes>"
      ]
     },
     "metadata": {},
     "output_type": "display_data"
    },
    {
     "data": {
      "text/plain": [
       "<Figure size 640x480 with 0 Axes>"
      ]
     },
     "metadata": {},
     "output_type": "display_data"
    }
   ],
   "source": [
    "# %%\n",
    "logs_exp.groupby(\"date\")[\"user_id\"].count().plot()\n",
    "plt.xticks(rotation=45)  # Rotación de 45 grados\n",
    "plt.show()\n",
    "plt.clf()"
   ]
  },
  {
   "cell_type": "markdown",
   "metadata": {},
   "source": [
    "Se traza un gráfico de líneas para que sea aún más fácil identificar donde tenemos un cambio en el comportamiento de los datos.\n",
    "Obteniendo que el 1ero de Agosto es el día en el que comenzo un aumento de los datos y tomamos esa fecha como referencia para filtrar nuestros datos."
   ]
  },
  {
   "cell_type": "code",
   "execution_count": 54,
   "metadata": {},
   "outputs": [],
   "source": [
    "#Se crea filtro para las fechas posteriores al 31 de julio del 2019\n",
    "logs_exp_filtered = logs_exp.loc[logs_exp[\"date\"]>'31-07-2019']"
   ]
  },
  {
   "cell_type": "code",
   "execution_count": 55,
   "metadata": {},
   "outputs": [
    {
     "name": "stdout",
     "output_type": "stream",
     "text": [
      "2019-07-25 00:00:00\n",
      "2019-08-07 00:00:00\n"
     ]
    },
    {
     "data": {
      "image/png": "[encoded data removed]",
      "text/plain": [
       "<Figure size 640x480 with 1 Axes>"
      ]
     },
     "metadata": {},
     "output_type": "display_data"
    }
   ],
   "source": [
    "#Se crea grafico para observar los valores filtrados.\n",
    "logs_exp_filtered = logs_exp[logs_exp['date']>pd.to_datetime('2019-07-31')]\n",
    "print(logs_exp['date'].min())\n",
    "print(logs_exp['date'].max())\n",
    "logs_exp_filtered[\"event_date\"].hist(bins=100)\n",
    "plt.xticks(rotation=45)  # Rotación de 45 grados\n",
    "plt.show()"
   ]
  },
  {
   "cell_type": "markdown",
   "metadata": {},
   "source": [
    "#### ¿Perdiste muchos eventos y usuarios al excluir los datos más antiguos?"
   ]
  },
  {
   "cell_type": "code",
   "execution_count": 56,
   "metadata": {},
   "outputs": [
    {
     "name": "stdout",
     "output_type": "stream",
     "text": [
      "\n",
      "Porcentaje de usuarios que permanecen: 99.8\n",
      "Porcentaje de usuarios que eliminamos: 0.2\n",
      "\n"
     ]
    }
   ],
   "source": [
    "#Se corrobora el número de datos perdidos tras el filtrado. \n",
    "print(f\"\"\"\n",
    "Porcentaje de usuarios que permanecen: {100*round(logs_exp_filtered[\"user_id\"].nunique() / logs_exp[\"user_id\"].nunique(), 3)}\n",
    "Porcentaje de usuarios que eliminamos: {100*round(1 - logs_exp_filtered[\"user_id\"].nunique() / logs_exp[\"user_id\"].nunique(), 3)}\n",
    "\"\"\")"
   ]
  },
  {
   "cell_type": "markdown",
   "metadata": {},
   "source": [
    "Al calcular proporción de los datos excluidos obtenemos que solo es el 0.2% de los datos totales, este valor se encuentra por debajo del 2%, así que no tenemos problemas por excluir los datos viejos."
   ]
  },
  {
   "cell_type": "markdown",
   "metadata": {},
   "source": [
    "#### Asegúrate de tener usuarios y usuarias de los tres grupos experimentales."
   ]
  },
  {
   "cell_type": "code",
   "execution_count": 57,
   "metadata": {},
   "outputs": [
    {
     "data": {
      "text/plain": [
       "exp_id\n",
       "246    0.329157\n",
       "247    0.319717\n",
       "248    0.351126\n",
       "Name: user_id, dtype: float64"
      ]
     },
     "execution_count": 57,
     "metadata": {},
     "output_type": "execute_result"
    }
   ],
   "source": [
    "#Se calcula la proporcion de usuarios en los 3 grupos\n",
    "logs_exp_filtered.groupby(\"exp_id\")[\"user_id\"].count()/len(logs_exp_filtered)"
   ]
  },
  {
   "cell_type": "markdown",
   "metadata": {},
   "source": [
    "Como podemos observar tenemos aproximadamente la misma proporción de datos en los tres grupos experimentales, lo cual ayuda a que nuestro experimento sea maás real y tenga menos sesgo."
   ]
  },
  {
   "cell_type": "markdown",
   "metadata": {},
   "source": [
    "### Estudiar el embudo de eventos"
   ]
  },
  {
   "cell_type": "markdown",
   "metadata": {},
   "source": [
    "#### Observa qué eventos hay en los registros y su frecuencia de suceso. Ordénalos por frecuencia."
   ]
  },
  {
   "cell_type": "code",
   "execution_count": 58,
   "metadata": {},
   "outputs": [
    {
     "data": {
      "text/html": [
       "<div>\n",
       "<style scoped>\n",
       "    .dataframe tbody tr th:only-of-type {\n",
       "        vertical-align: middle;\n",
       "    }\n",
       "\n",
       "    .dataframe tbody tr th {\n",
       "        vertical-align: top;\n",
       "    }\n",
       "\n",
       "    .dataframe thead th {\n",
       "        text-align: right;\n",
       "    }\n",
       "</style>\n",
       "<table border=\"1\" class=\"dataframe\">\n",
       "  <thead>\n",
       "    <tr style=\"text-align: right;\">\n",
       "      <th></th>\n",
       "      <th>event</th>\n",
       "      <th>user_id</th>\n",
       "    </tr>\n",
       "  </thead>\n",
       "  <tbody>\n",
       "    <tr>\n",
       "      <th>1</th>\n",
       "      <td>MainScreenAppear</td>\n",
       "      <td>117431</td>\n",
       "    </tr>\n",
       "    <tr>\n",
       "      <th>2</th>\n",
       "      <td>OffersScreenAppear</td>\n",
       "      <td>46350</td>\n",
       "    </tr>\n",
       "    <tr>\n",
       "      <th>0</th>\n",
       "      <td>CartScreenAppear</td>\n",
       "      <td>42365</td>\n",
       "    </tr>\n",
       "    <tr>\n",
       "      <th>3</th>\n",
       "      <td>PaymentScreenSuccessful</td>\n",
       "      <td>34113</td>\n",
       "    </tr>\n",
       "    <tr>\n",
       "      <th>4</th>\n",
       "      <td>Tutorial</td>\n",
       "      <td>1039</td>\n",
       "    </tr>\n",
       "  </tbody>\n",
       "</table>\n",
       "</div>"
      ],
      "text/plain": [
       "                     event  user_id\n",
       "1         MainScreenAppear   117431\n",
       "2       OffersScreenAppear    46350\n",
       "0         CartScreenAppear    42365\n",
       "3  PaymentScreenSuccessful    34113\n",
       "4                 Tutorial     1039"
      ]
     },
     "execution_count": 58,
     "metadata": {},
     "output_type": "execute_result"
    }
   ],
   "source": [
    "#Se agrupa por evento y se reordena de forma descendente\n",
    "logs_exp_filtered.groupby('event')['user_id'].count().reset_index().sort_values('user_id',ascending=False)"
   ]
  },
  {
   "cell_type": "markdown",
   "metadata": {},
   "source": [
    "#### Encuentra la cantidad de usuarios y usuarias que realizaron cada una de estas acciones. Ordena los eventos por el número de usuarios y usuarias. Calcula la proporción de usuarios y usuarias que realizaron la acción al menos una vez."
   ]
  },
  {
   "cell_type": "code",
   "execution_count": 59,
   "metadata": {},
   "outputs": [
    {
     "data": {
      "text/plain": [
       "event\n",
       "MainScreenAppear           7419\n",
       "OffersScreenAppear         4593\n",
       "CartScreenAppear           3734\n",
       "PaymentScreenSuccessful    3539\n",
       "Tutorial                    840\n",
       "Name: user_id, dtype: int64"
      ]
     },
     "execution_count": 59,
     "metadata": {},
     "output_type": "execute_result"
    }
   ],
   "source": [
    "logs_exp_filtered.groupby(\"event\")[\"user_id\"].nunique().sort_values(ascending=False)"
   ]
  },
  {
   "cell_type": "code",
   "execution_count": 60,
   "metadata": {},
   "outputs": [
    {
     "data": {
      "text/plain": [
       "event\n",
       "CartScreenAppear           0.495620\n",
       "MainScreenAppear           0.984736\n",
       "OffersScreenAppear         0.609636\n",
       "PaymentScreenSuccessful    0.469737\n",
       "Tutorial                   0.111495\n",
       "Name: user_id, dtype: float64"
      ]
     },
     "execution_count": 60,
     "metadata": {},
     "output_type": "execute_result"
    }
   ],
   "source": [
    "logs_exp_filtered.groupby(\"event\")[\"user_id\"].nunique() / logs_exp_filtered[\"user_id\"].nunique()"
   ]
  },
  {
   "cell_type": "markdown",
   "metadata": {},
   "source": [
    "#### ¿En qué orden crees que ocurrieron las acciones? ¿Todas son parte de una sola secuencia? No es necesario tenerlas en cuenta al calcular el embudo."
   ]
  },
  {
   "cell_type": "code",
   "execution_count": 61,
   "metadata": {},
   "outputs": [
    {
     "data": {
      "text/plain": [
       "MainScreenAppear           117431\n",
       "OffersScreenAppear          46350\n",
       "CartScreenAppear            42365\n",
       "PaymentScreenSuccessful     34113\n",
       "Tutorial                     1039\n",
       "Name: event, dtype: int64"
      ]
     },
     "execution_count": 61,
     "metadata": {},
     "output_type": "execute_result"
    }
   ],
   "source": [
    "logs_exp_filtered['event'].value_counts()"
   ]
  },
  {
   "cell_type": "markdown",
   "metadata": {},
   "source": [
    "1) MainScreenAppear \n",
    "2) Tutorial \n",
    "3) OffersScreenAppear \n",
    "4) CartScreenAppear \n",
    "5) PaymentScreenSuccessful\n",
    "Este es el probable orden en el que ocurrieron las acciones, sin embargo, debemos tomar en cuenta que muchas veces los tutoriales se pueden saltar por lo que puede ser la razon por la que tenemos tan baja tasa de conversión en esa etapa."
   ]
  },
  {
   "cell_type": "markdown",
   "metadata": {},
   "source": [
    "#### Utiliza el embudo de eventos para encontrar la proporción de usuarios y usuarias que pasan de una etapa a la siguiente. (Por ejemplo, para la secuencia de eventos A → B → C, calcula la proporción de usuarios en la etapa B a la cantidad de usuarios en la etapa A y la proporción de usuarios en la etapa C a la cantidad en la etapa B)."
   ]
  },
  {
   "cell_type": "code",
   "execution_count": 62,
   "metadata": {},
   "outputs": [],
   "source": [
    "#Creamos un embudo agrupando por evento y extrayendo los valores unicos de user_id.\n",
    "users_by_event = logs_exp_filtered.groupby(\"event\")[\"user_id\"].nunique(\n",
    ").sort_values(ascending=False).reset_index()\n",
    "\n",
    "#Se agrega la columna user_in_previous_step para extraer los usuarios de la anterior etapa\n",
    "users_by_event[\"users_in_previous_step\"] = users_by_event[\"user_id\"].shift(1)\n",
    "\n",
    "#Se calcula la conversión dividiendo el número de usuarios de la etapa entre el número de usuarios de la etapa previa. \n",
    "users_by_event[\"conversion_previous_step\"] = users_by_event[\"user_id\"] / \\\n",
    "    users_by_event[\"users_in_previous_step\"]\n",
    "\n",
    "#Se calcula el porcentaje de usuarios perdidos en la nueva etapa.\n",
    "users_by_event[\"dropoff_rate\"] = 1 - users_by_event[\"conversion_previous_step\"]"
   ]
  },
  {
   "cell_type": "code",
   "execution_count": 63,
   "metadata": {},
   "outputs": [
    {
     "data": {
      "text/html": [
       "<div>\n",
       "<style scoped>\n",
       "    .dataframe tbody tr th:only-of-type {\n",
       "        vertical-align: middle;\n",
       "    }\n",
       "\n",
       "    .dataframe tbody tr th {\n",
       "        vertical-align: top;\n",
       "    }\n",
       "\n",
       "    .dataframe thead th {\n",
       "        text-align: right;\n",
       "    }\n",
       "</style>\n",
       "<table border=\"1\" class=\"dataframe\">\n",
       "  <thead>\n",
       "    <tr style=\"text-align: right;\">\n",
       "      <th></th>\n",
       "      <th>event</th>\n",
       "      <th>user_id</th>\n",
       "      <th>users_in_previous_step</th>\n",
       "      <th>conversion_previous_step</th>\n",
       "      <th>dropoff_rate</th>\n",
       "    </tr>\n",
       "  </thead>\n",
       "  <tbody>\n",
       "    <tr>\n",
       "      <th>0</th>\n",
       "      <td>MainScreenAppear</td>\n",
       "      <td>7419</td>\n",
       "      <td>NaN</td>\n",
       "      <td>NaN</td>\n",
       "      <td>NaN</td>\n",
       "    </tr>\n",
       "    <tr>\n",
       "      <th>1</th>\n",
       "      <td>OffersScreenAppear</td>\n",
       "      <td>4593</td>\n",
       "      <td>7419.0</td>\n",
       "      <td>0.619086</td>\n",
       "      <td>0.380914</td>\n",
       "    </tr>\n",
       "    <tr>\n",
       "      <th>2</th>\n",
       "      <td>CartScreenAppear</td>\n",
       "      <td>3734</td>\n",
       "      <td>4593.0</td>\n",
       "      <td>0.812976</td>\n",
       "      <td>0.187024</td>\n",
       "    </tr>\n",
       "    <tr>\n",
       "      <th>3</th>\n",
       "      <td>PaymentScreenSuccessful</td>\n",
       "      <td>3539</td>\n",
       "      <td>3734.0</td>\n",
       "      <td>0.947777</td>\n",
       "      <td>0.052223</td>\n",
       "    </tr>\n",
       "    <tr>\n",
       "      <th>4</th>\n",
       "      <td>Tutorial</td>\n",
       "      <td>840</td>\n",
       "      <td>3539.0</td>\n",
       "      <td>0.237355</td>\n",
       "      <td>0.762645</td>\n",
       "    </tr>\n",
       "  </tbody>\n",
       "</table>\n",
       "</div>"
      ],
      "text/plain": [
       "                     event  user_id  users_in_previous_step  \\\n",
       "0         MainScreenAppear     7419                     NaN   \n",
       "1       OffersScreenAppear     4593                  7419.0   \n",
       "2         CartScreenAppear     3734                  4593.0   \n",
       "3  PaymentScreenSuccessful     3539                  3734.0   \n",
       "4                 Tutorial      840                  3539.0   \n",
       "\n",
       "   conversion_previous_step  dropoff_rate  \n",
       "0                       NaN           NaN  \n",
       "1                  0.619086      0.380914  \n",
       "2                  0.812976      0.187024  \n",
       "3                  0.947777      0.052223  \n",
       "4                  0.237355      0.762645  "
      ]
     },
     "execution_count": 63,
     "metadata": {},
     "output_type": "execute_result"
    }
   ],
   "source": [
    "users_by_event"
   ]
  },
  {
   "cell_type": "markdown",
   "metadata": {},
   "source": [
    "#### ¿En qué etapa pierdes más usuarios y usuarias?"
   ]
  },
  {
   "cell_type": "markdown",
   "metadata": {},
   "source": [
    "Se pierden muchos usuarios de la etapa del tutorial, tiene la conversión más baja, y la perdida de usuarios más alta. Sin embargo, esto se puede deber a que la etapa tiene una opción para saltar la etapa. Por otro lado, la segunda con mayor perdida son las ofertas con un 38% de usuarios que abandonan la p]agina antes de revisar las ofertas. Habria que puede causar este suceso, pero no contamos con información suficiente para realizarlo."
   ]
  },
  {
   "cell_type": "markdown",
   "metadata": {},
   "source": [
    "#### ¿Qué porcentaje de usuarios y usuarias hace todo el viaje desde su primer evento hasta el pago?"
   ]
  },
  {
   "cell_type": "code",
   "execution_count": 64,
   "metadata": {},
   "outputs": [
    {
     "data": {
      "text/html": [
       "<div>\n",
       "<style scoped>\n",
       "    .dataframe tbody tr th:only-of-type {\n",
       "        vertical-align: middle;\n",
       "    }\n",
       "\n",
       "    .dataframe tbody tr th {\n",
       "        vertical-align: top;\n",
       "    }\n",
       "\n",
       "    .dataframe thead th {\n",
       "        text-align: right;\n",
       "    }\n",
       "</style>\n",
       "<table border=\"1\" class=\"dataframe\">\n",
       "  <thead>\n",
       "    <tr style=\"text-align: right;\">\n",
       "      <th></th>\n",
       "      <th>event</th>\n",
       "      <th>user_id</th>\n",
       "      <th>event_date</th>\n",
       "      <th>exp_id</th>\n",
       "      <th>date</th>\n",
       "      <th>hour</th>\n",
       "    </tr>\n",
       "  </thead>\n",
       "  <tbody>\n",
       "    <tr>\n",
       "      <th>2828</th>\n",
       "      <td>Tutorial</td>\n",
       "      <td>3737462046622621720</td>\n",
       "      <td>2019-08-01 00:07:28</td>\n",
       "      <td>246</td>\n",
       "      <td>2019-08-01</td>\n",
       "      <td>00:07:28</td>\n",
       "    </tr>\n",
       "    <tr>\n",
       "      <th>2829</th>\n",
       "      <td>MainScreenAppear</td>\n",
       "      <td>3737462046622621720</td>\n",
       "      <td>2019-08-01 00:08:00</td>\n",
       "      <td>246</td>\n",
       "      <td>2019-08-01</td>\n",
       "      <td>00:08:00</td>\n",
       "    </tr>\n",
       "    <tr>\n",
       "      <th>2830</th>\n",
       "      <td>MainScreenAppear</td>\n",
       "      <td>3737462046622621720</td>\n",
       "      <td>2019-08-01 00:08:55</td>\n",
       "      <td>246</td>\n",
       "      <td>2019-08-01</td>\n",
       "      <td>00:08:55</td>\n",
       "    </tr>\n",
       "    <tr>\n",
       "      <th>2831</th>\n",
       "      <td>OffersScreenAppear</td>\n",
       "      <td>3737462046622621720</td>\n",
       "      <td>2019-08-01 00:08:58</td>\n",
       "      <td>246</td>\n",
       "      <td>2019-08-01</td>\n",
       "      <td>00:08:58</td>\n",
       "    </tr>\n",
       "    <tr>\n",
       "      <th>2832</th>\n",
       "      <td>MainScreenAppear</td>\n",
       "      <td>1433840883824088890</td>\n",
       "      <td>2019-08-01 00:08:59</td>\n",
       "      <td>247</td>\n",
       "      <td>2019-08-01</td>\n",
       "      <td>00:08:59</td>\n",
       "    </tr>\n",
       "  </tbody>\n",
       "</table>\n",
       "</div>"
      ],
      "text/plain": [
       "                   event              user_id          event_date  exp_id  \\\n",
       "2828            Tutorial  3737462046622621720 2019-08-01 00:07:28     246   \n",
       "2829    MainScreenAppear  3737462046622621720 2019-08-01 00:08:00     246   \n",
       "2830    MainScreenAppear  3737462046622621720 2019-08-01 00:08:55     246   \n",
       "2831  OffersScreenAppear  3737462046622621720 2019-08-01 00:08:58     246   \n",
       "2832    MainScreenAppear  1433840883824088890 2019-08-01 00:08:59     247   \n",
       "\n",
       "           date      hour  \n",
       "2828 2019-08-01  00:07:28  \n",
       "2829 2019-08-01  00:08:00  \n",
       "2830 2019-08-01  00:08:55  \n",
       "2831 2019-08-01  00:08:58  \n",
       "2832 2019-08-01  00:08:59  "
      ]
     },
     "execution_count": 64,
     "metadata": {},
     "output_type": "execute_result"
    }
   ],
   "source": [
    "logs_exp_filtered.head()"
   ]
  },
  {
   "cell_type": "code",
   "execution_count": 65,
   "metadata": {},
   "outputs": [
    {
     "name": "stdout",
     "output_type": "stream",
     "text": [
      "El 6.19% de usuarios completaron todo el viaje desde su primer evento hasta el pago.\n"
     ]
    }
   ],
   "source": [
    "# Se define una secuencia para los eventos para revisar quienes pasaron por todas las fases.\n",
    "event_sequence = ['MainScreenAppear','Tutorial','OffersScreenAppear','CartScreenAppear','PaymentScreenSuccessful']\n",
    "\n",
    "# Se filtran los usuarios que han pasado por todos los eventos.\n",
    "users_by_event = {event: set(logs_exp_filtered[logs_exp_filtered['event'] == event]['user_id']) for event in event_sequence}\n",
    "\n",
    "# Se crea una intersección para establecer que usarios completaron el proceso.\n",
    "users_completed_journey = set.intersection(*users_by_event.values())\n",
    "\n",
    "# Se calcula el porcentaje, dividiendo los usuarios que completaron el proceso entre el número total de usuarios.\n",
    "total_users = logs_exp_filtered['user_id'].nunique()\n",
    "percentage_completed = len(users_completed_journey) / total_users * 100\n",
    "\n",
    "print(f\"El {percentage_completed:.2f}% de usuarios completaron todo el viaje desde su primer evento hasta el pago.\")"
   ]
  },
  {
   "cell_type": "markdown",
   "metadata": {},
   "source": [
    "Es un porcentaje bajo, sin embargo, esto se debe a que la conversion en esta etapa es baja, por lo cual es baja la cantidad de usuarios que atraviesan por todos los eventos."
   ]
  },
  {
   "cell_type": "markdown",
   "metadata": {},
   "source": [
    "### Estudiar los resultados del experimento"
   ]
  },
  {
   "cell_type": "markdown",
   "metadata": {},
   "source": [
    "#### ¿Cuántos usuarios y usuarias hay en cada grupo?"
   ]
  },
  {
   "cell_type": "code",
   "execution_count": 66,
   "metadata": {},
   "outputs": [
    {
     "data": {
      "text/plain": [
       "exp_id\n",
       "246    2484\n",
       "247    2513\n",
       "248    2537\n",
       "Name: user_id, dtype: int64"
      ]
     },
     "execution_count": 66,
     "metadata": {},
     "output_type": "execute_result"
    }
   ],
   "source": [
    "logs_exp_filtered.groupby('exp_id')['user_id'].nunique()"
   ]
  },
  {
   "cell_type": "markdown",
   "metadata": {},
   "source": [
    "#### Tenemos dos grupos de control en el test A/A, donde comprobamos nuestros mecanismos y cálculos. Observa si hay una diferencia estadísticamente significativa entre las muestras 246 y 247."
   ]
  },
  {
   "cell_type": "code",
   "execution_count": 67,
   "metadata": {},
   "outputs": [
    {
     "data": {
      "text/html": [
       "<div>\n",
       "<style scoped>\n",
       "    .dataframe tbody tr th:only-of-type {\n",
       "        vertical-align: middle;\n",
       "    }\n",
       "\n",
       "    .dataframe tbody tr th {\n",
       "        vertical-align: top;\n",
       "    }\n",
       "\n",
       "    .dataframe thead th {\n",
       "        text-align: right;\n",
       "    }\n",
       "</style>\n",
       "<table border=\"1\" class=\"dataframe\">\n",
       "  <thead>\n",
       "    <tr style=\"text-align: right;\">\n",
       "      <th></th>\n",
       "      <th>user_id</th>\n",
       "      <th>exp_id</th>\n",
       "      <th>converted</th>\n",
       "    </tr>\n",
       "  </thead>\n",
       "  <tbody>\n",
       "    <tr>\n",
       "      <th>0</th>\n",
       "      <td>3737462046622621720</td>\n",
       "      <td>246</td>\n",
       "      <td>1.0</td>\n",
       "    </tr>\n",
       "    <tr>\n",
       "      <th>1</th>\n",
       "      <td>1433840883824088890</td>\n",
       "      <td>247</td>\n",
       "      <td>0.0</td>\n",
       "    </tr>\n",
       "    <tr>\n",
       "      <th>2</th>\n",
       "      <td>4899590676214355127</td>\n",
       "      <td>247</td>\n",
       "      <td>1.0</td>\n",
       "    </tr>\n",
       "    <tr>\n",
       "      <th>3</th>\n",
       "      <td>1182179323890311443</td>\n",
       "      <td>246</td>\n",
       "      <td>0.0</td>\n",
       "    </tr>\n",
       "    <tr>\n",
       "      <th>4</th>\n",
       "      <td>4613461174774205834</td>\n",
       "      <td>248</td>\n",
       "      <td>1.0</td>\n",
       "    </tr>\n",
       "    <tr>\n",
       "      <th>5</th>\n",
       "      <td>205293431553451771</td>\n",
       "      <td>246</td>\n",
       "      <td>1.0</td>\n",
       "    </tr>\n",
       "    <tr>\n",
       "      <th>6</th>\n",
       "      <td>6121366368901703338</td>\n",
       "      <td>248</td>\n",
       "      <td>1.0</td>\n",
       "    </tr>\n",
       "    <tr>\n",
       "      <th>7</th>\n",
       "      <td>6022375714473447159</td>\n",
       "      <td>248</td>\n",
       "      <td>1.0</td>\n",
       "    </tr>\n",
       "    <tr>\n",
       "      <th>8</th>\n",
       "      <td>2712290788139738557</td>\n",
       "      <td>247</td>\n",
       "      <td>1.0</td>\n",
       "    </tr>\n",
       "    <tr>\n",
       "      <th>9</th>\n",
       "      <td>6049698452889664846</td>\n",
       "      <td>247</td>\n",
       "      <td>1.0</td>\n",
       "    </tr>\n",
       "  </tbody>\n",
       "</table>\n",
       "</div>"
      ],
      "text/plain": [
       "               user_id  exp_id  converted\n",
       "0  3737462046622621720     246        1.0\n",
       "1  1433840883824088890     247        0.0\n",
       "2  4899590676214355127     247        1.0\n",
       "3  1182179323890311443     246        0.0\n",
       "4  4613461174774205834     248        1.0\n",
       "5   205293431553451771     246        1.0\n",
       "6  6121366368901703338     248        1.0\n",
       "7  6022375714473447159     248        1.0\n",
       "8  2712290788139738557     247        1.0\n",
       "9  6049698452889664846     247        1.0"
      ]
     },
     "execution_count": 67,
     "metadata": {},
     "output_type": "execute_result"
    }
   ],
   "source": [
    "conversions = logs_exp_filtered[[\"user_id\", \"exp_id\"]].drop_duplicates()\n",
    "\n",
    "converted = pd.DataFrame(data={\n",
    "    \"user_id\": logs_exp_filtered[logs_exp_filtered[\"event\"] == \"OffersScreenAppear\"][\"user_id\"].unique(),\n",
    "    \"converted\": 1\n",
    "})\n",
    "\n",
    "conversions = conversions.merge(converted, on=\"user_id\", how=\"left\")\n",
    "conversions[\"converted\"] = conversions[\"converted\"].fillna(0)\n",
    "\n",
    "conversions.head(10)"
   ]
  },
  {
   "cell_type": "code",
   "execution_count": 68,
   "metadata": {},
   "outputs": [
    {
     "name": "stderr",
     "output_type": "stream",
     "text": [
      "/tmp/ipykernel_100/1237287414.py:1: SettingWithCopyWarning: \n",
      "A value is trying to be set on a copy of a slice from a DataFrame.\n",
      "Try using .loc[row_indexer,col_indexer] = value instead\n",
      "\n",
      "See the caveats in the documentation: https://pandas.pydata.org/pandas-docs/stable/user_guide/indexing.html#returning-a-view-versus-a-copy\n",
      "  logs_exp_filtered[\"group\"] = np.where(\n"
     ]
    }
   ],
   "source": [
    "logs_exp_filtered[\"group\"] = np.where(\n",
    "    (logs_exp_filtered[\"exp_id\"] == 246) | (\n",
    "        logs_exp_filtered[\"exp_id\"] == 247),\n",
    "    [\"control\"] * len(logs_exp_filtered),\n",
    "    [\"experiment\"] * len(logs_exp_filtered)\n",
    ")"
   ]
  },
  {
   "cell_type": "code",
   "execution_count": 69,
   "metadata": {},
   "outputs": [
    {
     "data": {
      "text/html": [
       "<div>\n",
       "<style scoped>\n",
       "    .dataframe tbody tr th:only-of-type {\n",
       "        vertical-align: middle;\n",
       "    }\n",
       "\n",
       "    .dataframe tbody tr th {\n",
       "        vertical-align: top;\n",
       "    }\n",
       "\n",
       "    .dataframe thead th {\n",
       "        text-align: right;\n",
       "    }\n",
       "</style>\n",
       "<table border=\"1\" class=\"dataframe\">\n",
       "  <thead>\n",
       "    <tr style=\"text-align: right;\">\n",
       "      <th></th>\n",
       "      <th>event</th>\n",
       "      <th>user_id</th>\n",
       "      <th>event_date</th>\n",
       "      <th>exp_id</th>\n",
       "      <th>date</th>\n",
       "      <th>hour</th>\n",
       "      <th>group</th>\n",
       "    </tr>\n",
       "  </thead>\n",
       "  <tbody>\n",
       "    <tr>\n",
       "      <th>2828</th>\n",
       "      <td>Tutorial</td>\n",
       "      <td>3737462046622621720</td>\n",
       "      <td>2019-08-01 00:07:28</td>\n",
       "      <td>246</td>\n",
       "      <td>2019-08-01</td>\n",
       "      <td>00:07:28</td>\n",
       "      <td>control</td>\n",
       "    </tr>\n",
       "    <tr>\n",
       "      <th>2829</th>\n",
       "      <td>MainScreenAppear</td>\n",
       "      <td>3737462046622621720</td>\n",
       "      <td>2019-08-01 00:08:00</td>\n",
       "      <td>246</td>\n",
       "      <td>2019-08-01</td>\n",
       "      <td>00:08:00</td>\n",
       "      <td>control</td>\n",
       "    </tr>\n",
       "    <tr>\n",
       "      <th>2830</th>\n",
       "      <td>MainScreenAppear</td>\n",
       "      <td>3737462046622621720</td>\n",
       "      <td>2019-08-01 00:08:55</td>\n",
       "      <td>246</td>\n",
       "      <td>2019-08-01</td>\n",
       "      <td>00:08:55</td>\n",
       "      <td>control</td>\n",
       "    </tr>\n",
       "    <tr>\n",
       "      <th>2831</th>\n",
       "      <td>OffersScreenAppear</td>\n",
       "      <td>3737462046622621720</td>\n",
       "      <td>2019-08-01 00:08:58</td>\n",
       "      <td>246</td>\n",
       "      <td>2019-08-01</td>\n",
       "      <td>00:08:58</td>\n",
       "      <td>control</td>\n",
       "    </tr>\n",
       "    <tr>\n",
       "      <th>2832</th>\n",
       "      <td>MainScreenAppear</td>\n",
       "      <td>1433840883824088890</td>\n",
       "      <td>2019-08-01 00:08:59</td>\n",
       "      <td>247</td>\n",
       "      <td>2019-08-01</td>\n",
       "      <td>00:08:59</td>\n",
       "      <td>control</td>\n",
       "    </tr>\n",
       "  </tbody>\n",
       "</table>\n",
       "</div>"
      ],
      "text/plain": [
       "                   event              user_id          event_date  exp_id  \\\n",
       "2828            Tutorial  3737462046622621720 2019-08-01 00:07:28     246   \n",
       "2829    MainScreenAppear  3737462046622621720 2019-08-01 00:08:00     246   \n",
       "2830    MainScreenAppear  3737462046622621720 2019-08-01 00:08:55     246   \n",
       "2831  OffersScreenAppear  3737462046622621720 2019-08-01 00:08:58     246   \n",
       "2832    MainScreenAppear  1433840883824088890 2019-08-01 00:08:59     247   \n",
       "\n",
       "           date      hour    group  \n",
       "2828 2019-08-01  00:07:28  control  \n",
       "2829 2019-08-01  00:08:00  control  \n",
       "2830 2019-08-01  00:08:55  control  \n",
       "2831 2019-08-01  00:08:58  control  \n",
       "2832 2019-08-01  00:08:59  control  "
      ]
     },
     "execution_count": 69,
     "metadata": {},
     "output_type": "execute_result"
    }
   ],
   "source": [
    "logs_exp_filtered.head()"
   ]
  },
  {
   "cell_type": "code",
   "execution_count": 70,
   "metadata": {},
   "outputs": [
    {
     "data": {
      "text/html": [
       "<div>\n",
       "<style scoped>\n",
       "    .dataframe tbody tr th:only-of-type {\n",
       "        vertical-align: middle;\n",
       "    }\n",
       "\n",
       "    .dataframe tbody tr th {\n",
       "        vertical-align: top;\n",
       "    }\n",
       "\n",
       "    .dataframe thead th {\n",
       "        text-align: right;\n",
       "    }\n",
       "</style>\n",
       "<table border=\"1\" class=\"dataframe\">\n",
       "  <thead>\n",
       "    <tr style=\"text-align: right;\">\n",
       "      <th></th>\n",
       "      <th>user_id</th>\n",
       "      <th>exp_id</th>\n",
       "      <th>converted</th>\n",
       "    </tr>\n",
       "  </thead>\n",
       "  <tbody>\n",
       "    <tr>\n",
       "      <th>0</th>\n",
       "      <td>3737462046622621720</td>\n",
       "      <td>246</td>\n",
       "      <td>1.0</td>\n",
       "    </tr>\n",
       "    <tr>\n",
       "      <th>1</th>\n",
       "      <td>1433840883824088890</td>\n",
       "      <td>247</td>\n",
       "      <td>0.0</td>\n",
       "    </tr>\n",
       "    <tr>\n",
       "      <th>2</th>\n",
       "      <td>4899590676214355127</td>\n",
       "      <td>247</td>\n",
       "      <td>1.0</td>\n",
       "    </tr>\n",
       "    <tr>\n",
       "      <th>3</th>\n",
       "      <td>1182179323890311443</td>\n",
       "      <td>246</td>\n",
       "      <td>0.0</td>\n",
       "    </tr>\n",
       "    <tr>\n",
       "      <th>4</th>\n",
       "      <td>4613461174774205834</td>\n",
       "      <td>248</td>\n",
       "      <td>1.0</td>\n",
       "    </tr>\n",
       "  </tbody>\n",
       "</table>\n",
       "</div>"
      ],
      "text/plain": [
       "               user_id  exp_id  converted\n",
       "0  3737462046622621720     246        1.0\n",
       "1  1433840883824088890     247        0.0\n",
       "2  4899590676214355127     247        1.0\n",
       "3  1182179323890311443     246        0.0\n",
       "4  4613461174774205834     248        1.0"
      ]
     },
     "execution_count": 70,
     "metadata": {},
     "output_type": "execute_result"
    }
   ],
   "source": [
    "conversions.head()"
   ]
  },
  {
   "cell_type": "code",
   "execution_count": 71,
   "metadata": {},
   "outputs": [
    {
     "name": "stdout",
     "output_type": "stream",
     "text": [
      "\n",
      "Statistic: 1.154910721737677\n",
      "p-value: 0.24818223444867904\n",
      "\n",
      "No podemos rechazar la hipótesis nula\n"
     ]
    }
   ],
   "source": [
    "statistic, pvalue = ttest_ind(\n",
    "    conversions[conversions[\"exp_id\"] == 246][\"converted\"],\n",
    "    conversions[conversions[\"exp_id\"] == 247][\"converted\"]\n",
    ")\n",
    "alpha = 0.002\n",
    "\n",
    "print(f\"\"\"\n",
    "Statistic: {statistic}\n",
    "p-value: {pvalue}\n",
    "\"\"\")\n",
    "\n",
    "if (pvalue < alpha):\n",
    "    print(\"Rechazamos la hipótesis nula\")\n",
    "else:\n",
    "    print(\"No podemos rechazar la hipótesis nula\")"
   ]
  },
  {
   "cell_type": "markdown",
   "metadata": {},
   "source": [
    "#### Selecciona el evento más popular. En cada uno de los grupos de control, encuentra la cantidad de usuarios y usuarias que realizaron esta acción. Encuentra su proporción. Comprueba si la diferencia entre los grupos es estadísticamente significativa. "
   ]
  },
  {
   "cell_type": "code",
   "execution_count": 72,
   "metadata": {},
   "outputs": [
    {
     "data": {
      "text/plain": [
       "exp_id\n",
       "246    0.620773\n",
       "247    0.604855\n",
       "248    0.603469\n",
       "Name: converted, dtype: float64"
      ]
     },
     "execution_count": 72,
     "metadata": {},
     "output_type": "execute_result"
    }
   ],
   "source": [
    "conversions.groupby(\"exp_id\")[\"converted\"].mean()"
   ]
  },
  {
   "cell_type": "markdown",
   "metadata": {},
   "source": [
    "#### Repite el procedimiento para todos los demás eventos (ahorrarás tiempo si creas una función especial para esta prueba). ¿Puedes confirmar que los grupos se dividieron correctamente?"
   ]
  },
  {
   "cell_type": "code",
   "execution_count": 73,
   "metadata": {},
   "outputs": [],
   "source": [
    "def t_test(df, group1, group2, event, group_col=\"exp_id\"):\n",
    "\n",
    "    conversions = df[[\"user_id\", group_col]].drop_duplicates()\n",
    "\n",
    "    converted = pd.DataFrame(data={\n",
    "        \"user_id\": df[df[\"event\"] == event][\"user_id\"].unique(),\n",
    "        \"converted\": 1\n",
    "    })\n",
    "\n",
    "    conversions = conversions.merge(converted, on=\"user_id\", how=\"left\")\n",
    "    conversions[\"converted\"] = conversions[\"converted\"].fillna(0)\n",
    "\n",
    "    statistic, pvalue = ttest_ind(\n",
    "        conversions[conversions[group_col] == group1][\"converted\"],\n",
    "        conversions[conversions[group_col] == group2][\"converted\"]\n",
    "    )\n",
    "\n",
    "    return statistic, pvalue"
   ]
  },
  {
   "cell_type": "code",
   "execution_count": 74,
   "metadata": {},
   "outputs": [
    {
     "name": "stdout",
     "output_type": "stream",
     "text": [
      "Running A/A tests...\n",
      "\n",
      "  Event: MainScreenAppear\n",
      "  p-value: 0.7571174621103072\n",
      "  \n",
      "\n",
      "\n",
      "  Event: OffersScreenAppear\n",
      "  p-value: 0.24818223444867904\n",
      "  \n",
      "\n",
      "\n",
      "  Event: CartScreenAppear\n",
      "  p-value: 0.22891646330485427\n",
      "  \n",
      "\n",
      "\n",
      "  Event: PaymentScreenSuccessful\n",
      "  p-value: 0.11461233163248476\n",
      "  \n",
      "\n",
      "\n",
      "  Event: Tutorial\n",
      "  p-value: 0.9377151544645461\n",
      "  \n",
      "\n"
     ]
    }
   ],
   "source": [
    "events = ['MainScreenAppear','OffersScreenAppear','CartScreenAppear','PaymentScreenSuccessful','Tutorial']\n",
    "\n",
    "print(\"Running A/A tests...\")\n",
    "for event in events:\n",
    "    _, pvalue = t_test(logs_exp_filtered, 246, 247, event)\n",
    "\n",
    "    print(f\"\"\"\n",
    "  Event: {event}\n",
    "  p-value: {pvalue}\n",
    "  \"\"\")\n",
    "    print()"
   ]
  },
  {
   "cell_type": "markdown",
   "metadata": {},
   "source": [
    "En ninguno de los casos nuestro p-value fue menor que nuestro valor alfa por lo que no podemos rechazar la hipotesis nula. "
   ]
  },
  {
   "cell_type": "markdown",
   "metadata": {},
   "source": [
    "#### Haz lo mismo para el grupo con fuentes alteradas. Compara los resultados con los de cada uno de los grupos de control para cada evento de forma aislada. Compara los resultados con los resultados combinados de los grupos de control. ¿Qué conclusiones puedes sacar del experimento?"
   ]
  },
  {
   "cell_type": "code",
   "execution_count": 75,
   "metadata": {},
   "outputs": [
    {
     "name": "stdout",
     "output_type": "stream",
     "text": [
      "Running A/B tests...\n",
      "\n",
      "Event: MainScreenAppear\n",
      "\n",
      "    Comparison: 246 vs. experiment\n",
      "    p-value: 0.29506606465679136\n",
      "    \n",
      "\n",
      "    Comparison: 247 vs. experiment\n",
      "    p-value: 0.45880437959723175\n",
      "    \n",
      "\n",
      "  Comparison: all control vs. experiment\n",
      "  p-value: 0.29430776026592703\n",
      "  \n",
      "Event: OffersScreenAppear\n",
      "\n",
      "    Comparison: 246 vs. experiment\n",
      "    p-value: 0.20843948636199391\n",
      "    \n",
      "\n",
      "    Comparison: 247 vs. experiment\n",
      "    p-value: 0.9198015341631126\n",
      "    \n",
      "\n",
      "  Comparison: all control vs. experiment\n",
      "  p-value: 0.4343224300849128\n",
      "  \n",
      "Event: CartScreenAppear\n",
      "\n",
      "    Comparison: 246 vs. experiment\n",
      "    p-value: 0.07845751752267907\n",
      "    \n",
      "\n",
      "    Comparison: 247 vs. experiment\n",
      "    p-value: 0.5787080147829398\n",
      "    \n",
      "\n",
      "  Comparison: all control vs. experiment\n",
      "  p-value: 0.18180539347221455\n",
      "  \n",
      "Event: PaymentScreenSuccessful\n",
      "\n",
      "    Comparison: 246 vs. experiment\n",
      "    p-value: 0.2123337471133262\n",
      "    \n",
      "\n",
      "    Comparison: 247 vs. experiment\n",
      "    p-value: 0.7374027184332623\n",
      "    \n",
      "\n",
      "  Comparison: all control vs. experiment\n",
      "  p-value: 0.600486568376488\n",
      "  \n",
      "Event: Tutorial\n",
      "\n",
      "    Comparison: 246 vs. experiment\n",
      "    p-value: 0.8264715202653616\n",
      "    \n",
      "\n",
      "    Comparison: 247 vs. experiment\n",
      "    p-value: 0.7653793082832738\n",
      "    \n",
      "\n",
      "  Comparison: all control vs. experiment\n",
      "  p-value: 0.7648996614965458\n",
      "  \n"
     ]
    }
   ],
   "source": [
    "events = ['MainScreenAppear','OffersScreenAppear','CartScreenAppear','PaymentScreenSuccessful','Tutorial']\n",
    "controls = [246, 247]\n",
    "\n",
    "print(\"Running A/B tests...\")\n",
    "print()\n",
    "for event in events:\n",
    "\n",
    "    print(f\"Event: {event}\")\n",
    "\n",
    "    for control in controls:\n",
    "\n",
    "        _, pvalue = t_test(logs_exp_filtered, control, 248, event)\n",
    "\n",
    "        print(f\"\"\"\n",
    "    Comparison: {control} vs. experiment\n",
    "    p-value: {pvalue}\n",
    "    \"\"\")\n",
    "\n",
    "    _, pvalue = t_test(logs_exp_filtered, \"control\",\n",
    "                       \"experiment\", event, group_col=\"group\")\n",
    "\n",
    "    print(f\"\"\"\n",
    "  Comparison: all control vs. experiment\n",
    "  p-value: {pvalue}\n",
    "  \"\"\")"
   ]
  },
  {
   "cell_type": "markdown",
   "metadata": {},
   "source": [
    "En este caso, ninguno de los dos grupos presento un pvalue menor que nuestro valor alfa, sin embargo, el primer grupo de control tuvo un valor cercano, mientras que el segundo grupo el valor de pvalue fue mucho mayor, por lo que podemos concluir que el segundo grupo de control es mucho mejor referencia para comparar con el grupo experimental. "
   ]
  },
  {
   "cell_type": "markdown",
   "metadata": {},
   "source": [
    "#### ¿Qué nivel de significación has establecido para probar las hipótesis estadísticas mencionadas anteriormente? Calcula cuántas pruebas de hipótesis estadísticas has realizado. Con un nivel de significancia estadística de 0.1, uno de cada 10 resultados podría ser falso. ¿Cuál debería ser el nivel de significación? Si deseas cambiarlo, vuelve a ejecutar los pasos anteriores y comprueba tus conclusiones."
   ]
  },
  {
   "cell_type": "code",
   "execution_count": 76,
   "metadata": {},
   "outputs": [
    {
     "name": "stdout",
     "output_type": "stream",
     "text": [
      "\n",
      "Nivel de significancia real: 0.13994164535871156\n",
      "\n",
      "\n",
      "Nivel de significancia real: 0.02958361825577649\n",
      "\n"
     ]
    }
   ],
   "source": [
    "n_pruebas = 15\n",
    "significancia = 0.01\n",
    "\n",
    "print(f\"\"\"\n",
    "Nivel de significancia real: {1-(1 - significancia)**n_pruebas}\n",
    "\"\"\")\n",
    "\n",
    "significancia = 0.002\n",
    "\n",
    "print(f\"\"\"\n",
    "Nivel de significancia real: {1-(1 - significancia)**n_pruebas}\n",
    "\"\"\")"
   ]
  },
  {
   "cell_type": "markdown",
   "metadata": {},
   "source": [
    "Obtuvimos que un 13% de probabilidad de cometer un error de tipo I con un 1% de significacia. lo cual es muy grave ya que contamos con 15 pruebas y esto quiere decir que contamos con almenos un falso positivo en nuestro análisis.\n",
    "\n",
    "Por otro lado, cambiar el nivel de significación a 0.002 controla mejor el error acumulado. reduciendo el numero de falsos posivos y más cercano a los valores que se consideran aceptables. "
   ]
  }
 ],
 "metadata": {
  "ExecuteTimeLog": [
   {
    "duration": 427,
    "start_time": "2024-08-13T01:27:40.892Z"
   },
   {
    "duration": 354,
    "start_time": "2024-08-13T01:27:43.334Z"
   },
   {
    "duration": 24,
    "start_time": "2024-08-13T01:27:52.320Z"
   },
   {
    "duration": 18,
    "start_time": "2024-08-13T01:28:05.220Z"
   },
   {
    "duration": 335,
    "start_time": "2024-08-13T01:28:19.422Z"
   },
   {
    "duration": 302,
    "start_time": "2024-08-13T01:35:23.791Z"
   },
   {
    "duration": 22,
    "start_time": "2024-08-13T01:35:26.487Z"
   },
   {
    "duration": 11,
    "start_time": "2024-08-13T01:35:29.275Z"
   },
   {
    "duration": 10,
    "start_time": "2024-08-13T01:35:37.421Z"
   },
   {
    "duration": 22,
    "start_time": "2024-08-13T01:35:39.230Z"
   },
   {
    "duration": 11,
    "start_time": "2024-08-13T01:35:41.009Z"
   },
   {
    "duration": 171,
    "start_time": "2024-08-13T01:35:50.805Z"
   },
   {
    "duration": 29,
    "start_time": "2024-08-13T01:35:52.297Z"
   },
   {
    "duration": 14,
    "start_time": "2024-08-13T01:35:53.661Z"
   },
   {
    "duration": 22,
    "start_time": "2024-08-13T01:41:46.383Z"
   },
   {
    "duration": 22,
    "start_time": "2024-08-13T01:41:55.666Z"
   },
   {
    "duration": 20,
    "start_time": "2024-08-13T01:41:59.839Z"
   },
   {
    "duration": 24,
    "start_time": "2024-08-13T01:47:10.173Z"
   },
   {
    "duration": 20,
    "start_time": "2024-08-13T01:47:12.102Z"
   },
   {
    "duration": 6,
    "start_time": "2024-08-13T01:47:24.690Z"
   },
   {
    "duration": 5,
    "start_time": "2024-08-13T01:47:46.633Z"
   },
   {
    "duration": 9,
    "start_time": "2024-08-13T01:47:52.270Z"
   },
   {
    "duration": 8,
    "start_time": "2024-08-13T02:01:49.812Z"
   },
   {
    "duration": 4,
    "start_time": "2024-08-13T02:04:50.767Z"
   },
   {
    "duration": 21,
    "start_time": "2024-08-13T02:05:13.547Z"
   },
   {
    "duration": 195,
    "start_time": "2024-08-13T02:06:20.415Z"
   },
   {
    "duration": 202,
    "start_time": "2024-08-13T02:07:19.574Z"
   },
   {
    "duration": 4,
    "start_time": "2024-08-13T02:07:37.244Z"
   },
   {
    "duration": 76,
    "start_time": "2024-08-13T02:07:39.821Z"
   },
   {
    "duration": 5,
    "start_time": "2024-08-13T02:09:09.054Z"
   },
   {
    "duration": 8,
    "start_time": "2024-08-13T02:09:14.671Z"
   },
   {
    "duration": 11,
    "start_time": "2024-08-13T02:09:21.766Z"
   },
   {
    "duration": 310,
    "start_time": "2024-08-13T04:04:20.920Z"
   },
   {
    "duration": 7,
    "start_time": "2024-08-13T04:04:54.221Z"
   },
   {
    "duration": 460,
    "start_time": "2024-08-13T04:05:00.429Z"
   },
   {
    "duration": 191,
    "start_time": "2024-08-13T04:05:00.893Z"
   },
   {
    "duration": 39,
    "start_time": "2024-08-13T04:05:01.087Z"
   },
   {
    "duration": 9,
    "start_time": "2024-08-13T04:05:01.129Z"
   },
   {
    "duration": 9,
    "start_time": "2024-08-13T04:05:01.142Z"
   },
   {
    "duration": 10,
    "start_time": "2024-08-13T04:05:01.154Z"
   },
   {
    "duration": 4,
    "start_time": "2024-08-13T04:06:44.322Z"
   },
   {
    "duration": 208,
    "start_time": "2024-08-13T04:06:49.102Z"
   },
   {
    "duration": 1609,
    "start_time": "2024-08-13T04:06:55.401Z"
   },
   {
    "duration": 446,
    "start_time": "2024-08-13T04:07:06.141Z"
   },
   {
    "duration": 179,
    "start_time": "2024-08-13T04:07:06.591Z"
   },
   {
    "duration": 26,
    "start_time": "2024-08-13T04:07:06.773Z"
   },
   {
    "duration": 25,
    "start_time": "2024-08-13T04:07:06.802Z"
   },
   {
    "duration": 11,
    "start_time": "2024-08-13T04:07:06.831Z"
   },
   {
    "duration": 9,
    "start_time": "2024-08-13T04:07:06.845Z"
   },
   {
    "duration": 253,
    "start_time": "2024-08-13T04:07:06.857Z"
   },
   {
    "duration": 318,
    "start_time": "2024-08-13T16:16:42.895Z"
   },
   {
    "duration": 474,
    "start_time": "2024-08-13T16:16:48.140Z"
   },
   {
    "duration": 253,
    "start_time": "2024-08-13T16:16:48.618Z"
   },
   {
    "duration": 26,
    "start_time": "2024-08-13T16:16:48.874Z"
   },
   {
    "duration": 31,
    "start_time": "2024-08-13T16:16:48.903Z"
   },
   {
    "duration": 12,
    "start_time": "2024-08-13T16:16:48.938Z"
   },
   {
    "duration": 9,
    "start_time": "2024-08-13T16:16:48.954Z"
   },
   {
    "duration": 260,
    "start_time": "2024-08-13T16:16:48.966Z"
   },
   {
    "duration": 1745,
    "start_time": "2024-08-13T16:16:49.237Z"
   },
   {
    "duration": 2302,
    "start_time": "2024-08-13T16:24:29.857Z"
   },
   {
    "duration": 15,
    "start_time": "2024-08-13T16:24:40.808Z"
   },
   {
    "duration": 3,
    "start_time": "2024-08-13T16:28:55.431Z"
   },
   {
    "duration": 4,
    "start_time": "2024-08-13T17:34:19.049Z"
   },
   {
    "duration": 3,
    "start_time": "2024-08-13T17:35:25.152Z"
   },
   {
    "duration": 22,
    "start_time": "2024-08-13T17:53:13.227Z"
   },
   {
    "duration": 33,
    "start_time": "2024-08-13T17:53:18.971Z"
   },
   {
    "duration": 528,
    "start_time": "2024-08-13T17:54:11.665Z"
   },
   {
    "duration": 71,
    "start_time": "2024-08-13T17:54:31.908Z"
   },
   {
    "duration": 409,
    "start_time": "2024-08-13T17:54:38.085Z"
   },
   {
    "duration": 208,
    "start_time": "2024-08-13T17:54:38.497Z"
   },
   {
    "duration": 41,
    "start_time": "2024-08-13T17:54:38.708Z"
   },
   {
    "duration": 12,
    "start_time": "2024-08-13T17:54:38.760Z"
   },
   {
    "duration": 10,
    "start_time": "2024-08-13T17:54:38.776Z"
   },
   {
    "duration": 8,
    "start_time": "2024-08-13T17:54:38.789Z"
   },
   {
    "duration": 287,
    "start_time": "2024-08-13T17:54:38.800Z"
   },
   {
    "duration": 2424,
    "start_time": "2024-08-13T17:54:39.090Z"
   },
   {
    "duration": 27,
    "start_time": "2024-08-13T17:54:41.517Z"
   },
   {
    "duration": 897,
    "start_time": "2024-08-13T17:54:41.547Z"
   },
   {
    "duration": 14,
    "start_time": "2024-08-13T17:54:50.994Z"
   },
   {
    "duration": 20,
    "start_time": "2024-08-13T17:56:17.204Z"
   },
   {
    "duration": 320,
    "start_time": "2024-08-13T17:57:27.969Z"
   },
   {
    "duration": 24,
    "start_time": "2024-08-13T17:57:42.065Z"
   },
   {
    "duration": 22,
    "start_time": "2024-08-13T17:57:53.152Z"
   },
   {
    "duration": 412,
    "start_time": "2024-08-13T17:58:57.826Z"
   },
   {
    "duration": 28,
    "start_time": "2024-08-13T17:59:13.557Z"
   },
   {
    "duration": 360,
    "start_time": "2024-08-13T21:59:18.061Z"
   },
   {
    "duration": 513,
    "start_time": "2024-08-13T21:59:29.193Z"
   },
   {
    "duration": 221,
    "start_time": "2024-08-13T21:59:29.711Z"
   },
   {
    "duration": 28,
    "start_time": "2024-08-13T21:59:29.944Z"
   },
   {
    "duration": 12,
    "start_time": "2024-08-13T21:59:30.003Z"
   },
   {
    "duration": 12,
    "start_time": "2024-08-13T21:59:30.018Z"
   },
   {
    "duration": 1241,
    "start_time": "2024-08-13T21:59:30.035Z"
   },
   {
    "duration": 0,
    "start_time": "2024-08-13T21:59:31.279Z"
   },
   {
    "duration": 0,
    "start_time": "2024-08-13T21:59:31.281Z"
   },
   {
    "duration": 0,
    "start_time": "2024-08-13T21:59:31.284Z"
   },
   {
    "duration": 0,
    "start_time": "2024-08-13T21:59:31.286Z"
   },
   {
    "duration": 0,
    "start_time": "2024-08-13T21:59:31.303Z"
   },
   {
    "duration": 0,
    "start_time": "2024-08-13T21:59:31.305Z"
   },
   {
    "duration": 0,
    "start_time": "2024-08-13T21:59:31.307Z"
   },
   {
    "duration": 4,
    "start_time": "2024-08-13T22:06:44.895Z"
   },
   {
    "duration": 7,
    "start_time": "2024-08-13T22:07:15.915Z"
   },
   {
    "duration": 240,
    "start_time": "2024-08-13T22:08:09.022Z"
   },
   {
    "duration": 2397,
    "start_time": "2024-08-13T22:08:11.654Z"
   },
   {
    "duration": 17,
    "start_time": "2024-08-13T22:08:16.928Z"
   },
   {
    "duration": 35,
    "start_time": "2024-08-13T22:08:30.718Z"
   },
   {
    "duration": 14,
    "start_time": "2024-08-13T22:08:48.565Z"
   },
   {
    "duration": 445,
    "start_time": "2024-08-13T22:13:15.233Z"
   },
   {
    "duration": 189,
    "start_time": "2024-08-13T22:13:15.682Z"
   },
   {
    "duration": 36,
    "start_time": "2024-08-13T22:13:15.874Z"
   },
   {
    "duration": 10,
    "start_time": "2024-08-13T22:13:15.913Z"
   },
   {
    "duration": 18,
    "start_time": "2024-08-13T22:13:15.929Z"
   },
   {
    "duration": 14,
    "start_time": "2024-08-13T22:13:15.951Z"
   },
   {
    "duration": 481,
    "start_time": "2024-08-13T22:14:06.311Z"
   },
   {
    "duration": 187,
    "start_time": "2024-08-13T22:14:06.796Z"
   },
   {
    "duration": 30,
    "start_time": "2024-08-13T22:14:06.986Z"
   },
   {
    "duration": 12,
    "start_time": "2024-08-13T22:14:07.019Z"
   },
   {
    "duration": 11,
    "start_time": "2024-08-13T22:14:07.037Z"
   },
   {
    "duration": 52,
    "start_time": "2024-08-13T22:14:07.050Z"
   },
   {
    "duration": 468,
    "start_time": "2024-08-13T22:15:36.552Z"
   },
   {
    "duration": 192,
    "start_time": "2024-08-13T22:15:37.024Z"
   },
   {
    "duration": 26,
    "start_time": "2024-08-13T22:15:37.219Z"
   },
   {
    "duration": 10,
    "start_time": "2024-08-13T22:15:37.249Z"
   },
   {
    "duration": 40,
    "start_time": "2024-08-13T22:15:37.263Z"
   },
   {
    "duration": 10,
    "start_time": "2024-08-13T22:15:37.306Z"
   },
   {
    "duration": 5,
    "start_time": "2024-08-13T22:15:37.319Z"
   },
   {
    "duration": 261,
    "start_time": "2024-08-13T22:15:37.328Z"
   },
   {
    "duration": 2327,
    "start_time": "2024-08-13T22:15:37.592Z"
   },
   {
    "duration": 16,
    "start_time": "2024-08-13T22:15:39.924Z"
   },
   {
    "duration": 29,
    "start_time": "2024-08-13T22:15:39.943Z"
   },
   {
    "duration": 17,
    "start_time": "2024-08-13T22:15:40.003Z"
   },
   {
    "duration": 1092,
    "start_time": "2024-08-13T22:15:40.024Z"
   },
   {
    "duration": 27,
    "start_time": "2024-08-13T22:41:03.838Z"
   },
   {
    "duration": 55,
    "start_time": "2024-08-13T22:43:37.941Z"
   },
   {
    "duration": 477,
    "start_time": "2024-08-14T13:20:25.415Z"
   },
   {
    "duration": 224,
    "start_time": "2024-08-14T13:20:25.896Z"
   },
   {
    "duration": 25,
    "start_time": "2024-08-14T13:20:26.123Z"
   },
   {
    "duration": 10,
    "start_time": "2024-08-14T13:20:26.151Z"
   },
   {
    "duration": 11,
    "start_time": "2024-08-14T13:20:26.167Z"
   },
   {
    "duration": 50,
    "start_time": "2024-08-14T13:20:26.181Z"
   },
   {
    "duration": 3,
    "start_time": "2024-08-14T13:20:26.234Z"
   },
   {
    "duration": 243,
    "start_time": "2024-08-14T13:20:26.240Z"
   },
   {
    "duration": 2328,
    "start_time": "2024-08-14T13:20:26.487Z"
   },
   {
    "duration": 20,
    "start_time": "2024-08-14T13:20:28.818Z"
   },
   {
    "duration": 30,
    "start_time": "2024-08-14T13:20:28.841Z"
   },
   {
    "duration": 15,
    "start_time": "2024-08-14T13:20:28.873Z"
   },
   {
    "duration": 54,
    "start_time": "2024-08-14T13:20:28.891Z"
   },
   {
    "duration": 35,
    "start_time": "2024-08-14T13:20:28.950Z"
   },
   {
    "duration": 4858,
    "start_time": "2024-08-14T14:18:35.023Z"
   },
   {
    "duration": 188,
    "start_time": "2024-08-14T14:18:39.886Z"
   },
   {
    "duration": 27,
    "start_time": "2024-08-14T14:18:40.076Z"
   },
   {
    "duration": 23,
    "start_time": "2024-08-14T14:18:40.109Z"
   },
   {
    "duration": 20,
    "start_time": "2024-08-14T14:18:40.135Z"
   },
   {
    "duration": 11,
    "start_time": "2024-08-14T14:18:40.158Z"
   },
   {
    "duration": 4,
    "start_time": "2024-08-14T14:18:40.173Z"
   },
   {
    "duration": 265,
    "start_time": "2024-08-14T14:18:40.181Z"
   },
   {
    "duration": 2344,
    "start_time": "2024-08-14T14:18:40.449Z"
   },
   {
    "duration": 15,
    "start_time": "2024-08-14T14:18:42.797Z"
   },
   {
    "duration": 36,
    "start_time": "2024-08-14T14:18:42.830Z"
   },
   {
    "duration": 17,
    "start_time": "2024-08-14T14:18:42.870Z"
   },
   {
    "duration": 56,
    "start_time": "2024-08-14T14:18:42.890Z"
   },
   {
    "duration": 36,
    "start_time": "2024-08-14T14:18:42.948Z"
   },
   {
    "duration": 1262,
    "start_time": "2024-08-14T14:36:51.451Z"
   },
   {
    "duration": 190,
    "start_time": "2024-08-14T14:36:52.716Z"
   },
   {
    "duration": 40,
    "start_time": "2024-08-14T14:36:52.909Z"
   },
   {
    "duration": 7,
    "start_time": "2024-08-14T14:36:52.954Z"
   },
   {
    "duration": 10,
    "start_time": "2024-08-14T14:36:52.965Z"
   },
   {
    "duration": 8,
    "start_time": "2024-08-14T14:36:52.978Z"
   },
   {
    "duration": 45,
    "start_time": "2024-08-14T14:36:52.988Z"
   },
   {
    "duration": 232,
    "start_time": "2024-08-14T14:36:53.036Z"
   },
   {
    "duration": 2335,
    "start_time": "2024-08-14T14:36:53.270Z"
   },
   {
    "duration": 23,
    "start_time": "2024-08-14T14:36:55.610Z"
   },
   {
    "duration": 30,
    "start_time": "2024-08-14T14:36:55.636Z"
   },
   {
    "duration": 91,
    "start_time": "2024-08-14T14:36:55.669Z"
   },
   {
    "duration": 22,
    "start_time": "2024-08-14T14:36:55.763Z"
   },
   {
    "duration": 64,
    "start_time": "2024-08-14T14:36:55.788Z"
   },
   {
    "duration": 925,
    "start_time": "2024-08-14T14:39:38.454Z"
   },
   {
    "duration": 926,
    "start_time": "2024-08-14T14:40:41.183Z"
   },
   {
    "duration": 743,
    "start_time": "2024-08-14T14:43:41.869Z"
   },
   {
    "duration": 78,
    "start_time": "2024-08-14T14:43:51.279Z"
   },
   {
    "duration": 64,
    "start_time": "2024-08-14T14:45:42.841Z"
   },
   {
    "duration": 985,
    "start_time": "2024-08-14T14:48:06.938Z"
   },
   {
    "duration": 1069,
    "start_time": "2024-08-14T14:48:23.297Z"
   },
   {
    "duration": 1049,
    "start_time": "2024-08-14T14:48:31.845Z"
   },
   {
    "duration": 522,
    "start_time": "2024-08-14T14:49:06.220Z"
   },
   {
    "duration": 934,
    "start_time": "2024-08-14T14:49:18.412Z"
   },
   {
    "duration": 1023,
    "start_time": "2024-08-14T14:57:18.140Z"
   },
   {
    "duration": 59,
    "start_time": "2024-08-14T14:57:35.447Z"
   },
   {
    "duration": 43,
    "start_time": "2024-08-14T14:57:47.678Z"
   },
   {
    "duration": 33,
    "start_time": "2024-08-14T14:58:40.362Z"
   },
   {
    "duration": 29,
    "start_time": "2024-08-14T14:59:57.178Z"
   },
   {
    "duration": 7,
    "start_time": "2024-08-14T15:00:02.624Z"
   },
   {
    "duration": 6,
    "start_time": "2024-08-14T15:01:00.801Z"
   },
   {
    "duration": 8,
    "start_time": "2024-08-14T15:01:13.219Z"
   },
   {
    "duration": 5,
    "start_time": "2024-08-14T15:01:21.538Z"
   },
   {
    "duration": 12,
    "start_time": "2024-08-14T15:09:37.792Z"
   },
   {
    "duration": 49,
    "start_time": "2024-08-14T15:40:46.979Z"
   },
   {
    "duration": 67,
    "start_time": "2024-08-14T15:40:52.093Z"
   },
   {
    "duration": 44,
    "start_time": "2024-08-14T15:41:07.753Z"
   },
   {
    "duration": 68,
    "start_time": "2024-08-14T17:36:19.260Z"
   },
   {
    "duration": 30,
    "start_time": "2024-08-14T17:36:34.733Z"
   },
   {
    "duration": 9,
    "start_time": "2024-08-14T17:42:49.747Z"
   },
   {
    "duration": 1231,
    "start_time": "2024-08-14T17:42:56.049Z"
   },
   {
    "duration": 189,
    "start_time": "2024-08-14T17:42:57.283Z"
   },
   {
    "duration": 27,
    "start_time": "2024-08-14T17:42:57.475Z"
   },
   {
    "duration": 27,
    "start_time": "2024-08-14T17:42:57.505Z"
   },
   {
    "duration": 15,
    "start_time": "2024-08-14T17:42:57.535Z"
   },
   {
    "duration": 8,
    "start_time": "2024-08-14T17:42:57.553Z"
   },
   {
    "duration": 4,
    "start_time": "2024-08-14T17:42:57.564Z"
   },
   {
    "duration": 234,
    "start_time": "2024-08-14T17:42:57.571Z"
   },
   {
    "duration": 3104,
    "start_time": "2024-08-14T17:42:57.808Z"
   },
   {
    "duration": 27,
    "start_time": "2024-08-14T17:43:00.915Z"
   },
   {
    "duration": 94,
    "start_time": "2024-08-14T17:43:00.951Z"
   },
   {
    "duration": 13,
    "start_time": "2024-08-14T17:43:01.060Z"
   },
   {
    "duration": 24,
    "start_time": "2024-08-14T17:43:01.076Z"
   },
   {
    "duration": 73,
    "start_time": "2024-08-14T17:43:01.105Z"
   },
   {
    "duration": 997,
    "start_time": "2024-08-14T17:43:01.182Z"
   },
   {
    "duration": 993,
    "start_time": "2024-08-14T17:43:02.182Z"
   },
   {
    "duration": 78,
    "start_time": "2024-08-14T17:43:03.178Z"
   },
   {
    "duration": 4,
    "start_time": "2024-08-14T17:43:03.260Z"
   },
   {
    "duration": 12,
    "start_time": "2024-08-14T17:43:03.267Z"
   },
   {
    "duration": 62,
    "start_time": "2024-08-14T17:43:03.283Z"
   },
   {
    "duration": 69,
    "start_time": "2024-08-14T17:43:03.348Z"
   },
   {
    "duration": 38,
    "start_time": "2024-08-14T17:43:03.420Z"
   },
   {
    "duration": 6,
    "start_time": "2024-08-14T17:58:08.452Z"
   },
   {
    "duration": 9,
    "start_time": "2024-08-14T17:58:33.390Z"
   },
   {
    "duration": 461,
    "start_time": "2024-08-14T18:09:13.295Z"
   },
   {
    "duration": 104,
    "start_time": "2024-08-14T18:10:01.060Z"
   },
   {
    "duration": 53,
    "start_time": "2024-08-14T18:10:50.518Z"
   },
   {
    "duration": 48,
    "start_time": "2024-08-14T18:23:40.537Z"
   },
   {
    "duration": 138,
    "start_time": "2024-08-14T18:24:59.942Z"
   },
   {
    "duration": 27,
    "start_time": "2024-08-14T18:44:13.455Z"
   },
   {
    "duration": 40,
    "start_time": "2024-08-14T18:44:18.415Z"
   },
   {
    "duration": 6,
    "start_time": "2024-08-14T18:58:38.197Z"
   },
   {
    "duration": 4804,
    "start_time": "2024-08-15T03:53:44.149Z"
   },
   {
    "duration": 228,
    "start_time": "2024-08-15T03:53:48.957Z"
   },
   {
    "duration": 25,
    "start_time": "2024-08-15T03:53:49.188Z"
   },
   {
    "duration": 7,
    "start_time": "2024-08-15T03:53:49.230Z"
   },
   {
    "duration": 10,
    "start_time": "2024-08-15T03:53:49.243Z"
   },
   {
    "duration": 7,
    "start_time": "2024-08-15T03:53:49.256Z"
   },
   {
    "duration": 3,
    "start_time": "2024-08-15T03:53:49.267Z"
   },
   {
    "duration": 266,
    "start_time": "2024-08-15T03:53:49.273Z"
   },
   {
    "duration": 2366,
    "start_time": "2024-08-15T03:53:49.542Z"
   },
   {
    "duration": 28,
    "start_time": "2024-08-15T03:53:51.910Z"
   },
   {
    "duration": 30,
    "start_time": "2024-08-15T03:53:51.941Z"
   },
   {
    "duration": 15,
    "start_time": "2024-08-15T03:53:51.974Z"
   },
   {
    "duration": 62,
    "start_time": "2024-08-15T03:53:51.992Z"
   },
   {
    "duration": 72,
    "start_time": "2024-08-15T03:53:52.060Z"
   },
   {
    "duration": 985,
    "start_time": "2024-08-15T03:53:52.135Z"
   },
   {
    "duration": 941,
    "start_time": "2024-08-15T03:53:53.123Z"
   },
   {
    "duration": 41,
    "start_time": "2024-08-15T03:53:54.067Z"
   },
   {
    "duration": 6,
    "start_time": "2024-08-15T03:53:54.130Z"
   },
   {
    "duration": 11,
    "start_time": "2024-08-15T03:53:54.140Z"
   },
   {
    "duration": 35,
    "start_time": "2024-08-15T03:53:54.154Z"
   },
   {
    "duration": 100,
    "start_time": "2024-08-15T03:53:54.192Z"
   },
   {
    "duration": 45,
    "start_time": "2024-08-15T03:53:54.295Z"
   },
   {
    "duration": 8,
    "start_time": "2024-08-15T03:53:54.345Z"
   },
   {
    "duration": 10,
    "start_time": "2024-08-15T03:53:54.357Z"
   },
   {
    "duration": 977,
    "start_time": "2024-08-15T03:53:54.370Z"
   },
   {
    "duration": 0,
    "start_time": "2024-08-15T03:53:55.350Z"
   },
   {
    "duration": 0,
    "start_time": "2024-08-15T03:53:55.351Z"
   },
   {
    "duration": 0,
    "start_time": "2024-08-15T03:53:55.353Z"
   },
   {
    "duration": 0,
    "start_time": "2024-08-15T03:53:55.355Z"
   },
   {
    "duration": 1240,
    "start_time": "2024-08-15T03:55:19.858Z"
   },
   {
    "duration": 185,
    "start_time": "2024-08-15T03:55:21.102Z"
   },
   {
    "duration": 24,
    "start_time": "2024-08-15T03:55:21.290Z"
   },
   {
    "duration": 7,
    "start_time": "2024-08-15T03:55:21.330Z"
   },
   {
    "duration": 11,
    "start_time": "2024-08-15T03:55:21.341Z"
   },
   {
    "duration": 12,
    "start_time": "2024-08-15T03:55:21.354Z"
   },
   {
    "duration": 3,
    "start_time": "2024-08-15T03:55:21.371Z"
   },
   {
    "duration": 257,
    "start_time": "2024-08-15T03:55:21.377Z"
   },
   {
    "duration": 2414,
    "start_time": "2024-08-15T03:55:21.636Z"
   },
   {
    "duration": 15,
    "start_time": "2024-08-15T03:55:24.052Z"
   },
   {
    "duration": 102,
    "start_time": "2024-08-15T03:55:24.070Z"
   },
   {
    "duration": 16,
    "start_time": "2024-08-15T03:55:24.175Z"
   },
   {
    "duration": 47,
    "start_time": "2024-08-15T03:55:24.194Z"
   },
   {
    "duration": 49,
    "start_time": "2024-08-15T03:55:24.247Z"
   },
   {
    "duration": 970,
    "start_time": "2024-08-15T03:55:24.298Z"
   },
   {
    "duration": 937,
    "start_time": "2024-08-15T03:55:25.271Z"
   },
   {
    "duration": 50,
    "start_time": "2024-08-15T03:55:26.212Z"
   },
   {
    "duration": 6,
    "start_time": "2024-08-15T03:55:26.265Z"
   },
   {
    "duration": 11,
    "start_time": "2024-08-15T03:55:26.274Z"
   },
   {
    "duration": 70,
    "start_time": "2024-08-15T03:55:26.289Z"
   },
   {
    "duration": 80,
    "start_time": "2024-08-15T03:55:26.362Z"
   },
   {
    "duration": 30,
    "start_time": "2024-08-15T03:55:26.446Z"
   },
   {
    "duration": 6,
    "start_time": "2024-08-15T03:55:26.478Z"
   },
   {
    "duration": 9,
    "start_time": "2024-08-15T03:55:26.487Z"
   },
   {
    "duration": 3,
    "start_time": "2024-08-15T03:55:26.532Z"
   },
   {
    "duration": 2695,
    "start_time": "2024-08-15T03:55:26.538Z"
   },
   {
    "duration": 12,
    "start_time": "2024-08-15T03:55:29.235Z"
   },
   {
    "duration": 271,
    "start_time": "2024-08-15T03:55:29.250Z"
   },
   {
    "duration": 7,
    "start_time": "2024-08-15T03:55:29.530Z"
   },
   {
    "duration": 339,
    "start_time": "2024-08-15T16:35:47.935Z"
   },
   {
    "duration": 4858,
    "start_time": "2024-08-15T16:35:54.141Z"
   },
   {
    "duration": 216,
    "start_time": "2024-08-15T16:35:59.005Z"
   },
   {
    "duration": 25,
    "start_time": "2024-08-15T16:35:59.224Z"
   },
   {
    "duration": 7,
    "start_time": "2024-08-15T16:35:59.252Z"
   },
   {
    "duration": 42,
    "start_time": "2024-08-15T16:35:59.265Z"
   },
   {
    "duration": 8,
    "start_time": "2024-08-15T16:35:59.310Z"
   },
   {
    "duration": 3,
    "start_time": "2024-08-15T16:35:59.321Z"
   },
   {
    "duration": 244,
    "start_time": "2024-08-15T16:35:59.327Z"
   },
   {
    "duration": 2470,
    "start_time": "2024-08-15T16:35:59.574Z"
   },
   {
    "duration": 65,
    "start_time": "2024-08-15T16:36:02.047Z"
   },
   {
    "duration": 104,
    "start_time": "2024-08-15T16:36:02.115Z"
   },
   {
    "duration": 95,
    "start_time": "2024-08-15T16:36:02.223Z"
   },
   {
    "duration": 13,
    "start_time": "2024-08-15T16:36:02.321Z"
   },
   {
    "duration": 79,
    "start_time": "2024-08-15T16:36:02.340Z"
   },
   {
    "duration": 102,
    "start_time": "2024-08-15T16:36:02.421Z"
   },
   {
    "duration": 1334,
    "start_time": "2024-08-15T16:36:02.527Z"
   },
   {
    "duration": 937,
    "start_time": "2024-08-15T16:36:03.864Z"
   },
   {
    "duration": 44,
    "start_time": "2024-08-15T16:36:04.807Z"
   },
   {
    "duration": 7,
    "start_time": "2024-08-15T16:36:04.854Z"
   },
   {
    "duration": 45,
    "start_time": "2024-08-15T16:36:04.864Z"
   },
   {
    "duration": 36,
    "start_time": "2024-08-15T16:36:04.912Z"
   },
   {
    "duration": 91,
    "start_time": "2024-08-15T16:36:04.951Z"
   },
   {
    "duration": 28,
    "start_time": "2024-08-15T16:36:05.045Z"
   },
   {
    "duration": 29,
    "start_time": "2024-08-15T16:36:05.077Z"
   },
   {
    "duration": 9,
    "start_time": "2024-08-15T16:36:05.109Z"
   },
   {
    "duration": 4,
    "start_time": "2024-08-15T16:36:05.120Z"
   },
   {
    "duration": 2732,
    "start_time": "2024-08-15T16:36:05.126Z"
   },
   {
    "duration": 8,
    "start_time": "2024-08-15T16:36:07.861Z"
   },
   {
    "duration": 286,
    "start_time": "2024-08-15T16:36:07.873Z"
   },
   {
    "duration": 38,
    "start_time": "2024-08-15T16:36:33.813Z"
   },
   {
    "duration": 436,
    "start_time": "2024-08-15T16:38:32.550Z"
   },
   {
    "duration": 523,
    "start_time": "2024-08-15T16:38:48.007Z"
   },
   {
    "duration": 262,
    "start_time": "2024-08-15T16:39:49.470Z"
   },
   {
    "duration": 305,
    "start_time": "2024-08-15T16:40:01.869Z"
   },
   {
    "duration": 275,
    "start_time": "2024-08-15T16:40:11.606Z"
   },
   {
    "duration": 5,
    "start_time": "2024-08-15T16:41:54.510Z"
   },
   {
    "duration": 5,
    "start_time": "2024-08-15T16:42:01.112Z"
   },
   {
    "duration": 769,
    "start_time": "2024-08-15T16:42:05.078Z"
   },
   {
    "duration": 904,
    "start_time": "2024-08-15T16:43:53.399Z"
   },
   {
    "duration": 20,
    "start_time": "2024-08-15T16:44:05.787Z"
   },
   {
    "duration": 1267,
    "start_time": "2024-08-15T16:45:14.118Z"
   },
   {
    "duration": 19,
    "start_time": "2024-08-15T16:45:19.702Z"
   },
   {
    "duration": 1330,
    "start_time": "2024-08-15T16:45:44.618Z"
   },
   {
    "duration": 185,
    "start_time": "2024-08-15T16:45:45.951Z"
   },
   {
    "duration": 27,
    "start_time": "2024-08-15T16:45:46.139Z"
   },
   {
    "duration": 7,
    "start_time": "2024-08-15T16:45:46.170Z"
   },
   {
    "duration": 12,
    "start_time": "2024-08-15T16:45:46.207Z"
   },
   {
    "duration": 9,
    "start_time": "2024-08-15T16:45:46.222Z"
   },
   {
    "duration": 4,
    "start_time": "2024-08-15T16:45:46.235Z"
   },
   {
    "duration": 92,
    "start_time": "2024-08-15T16:45:46.242Z"
   },
   {
    "duration": 1273,
    "start_time": "2024-08-15T16:45:46.337Z"
   },
   {
    "duration": 14,
    "start_time": "2024-08-15T16:45:47.615Z"
   },
   {
    "duration": 39,
    "start_time": "2024-08-15T16:45:47.632Z"
   },
   {
    "duration": 53,
    "start_time": "2024-08-15T16:45:47.674Z"
   },
   {
    "duration": 14,
    "start_time": "2024-08-15T16:45:47.731Z"
   },
   {
    "duration": 57,
    "start_time": "2024-08-15T16:45:47.749Z"
   },
   {
    "duration": 44,
    "start_time": "2024-08-15T16:45:47.809Z"
   },
   {
    "duration": 469,
    "start_time": "2024-08-15T16:45:47.857Z"
   },
   {
    "duration": 1358,
    "start_time": "2024-08-15T16:45:48.333Z"
   },
   {
    "duration": 277,
    "start_time": "2024-08-15T16:45:49.694Z"
   },
   {
    "duration": 5,
    "start_time": "2024-08-15T16:45:49.974Z"
   },
   {
    "duration": 181,
    "start_time": "2024-08-15T16:45:49.983Z"
   },
   {
    "duration": 65,
    "start_time": "2024-08-15T16:45:50.167Z"
   },
   {
    "duration": 7,
    "start_time": "2024-08-15T16:45:50.236Z"
   },
   {
    "duration": 9,
    "start_time": "2024-08-15T16:45:50.248Z"
   },
   {
    "duration": 46,
    "start_time": "2024-08-15T16:45:50.262Z"
   },
   {
    "duration": 14,
    "start_time": "2024-08-15T16:45:50.312Z"
   },
   {
    "duration": 9,
    "start_time": "2024-08-15T16:45:50.329Z"
   },
   {
    "duration": 7,
    "start_time": "2024-08-15T16:45:50.341Z"
   },
   {
    "duration": 56,
    "start_time": "2024-08-15T16:45:50.355Z"
   },
   {
    "duration": 5,
    "start_time": "2024-08-15T16:45:50.413Z"
   },
   {
    "duration": 21,
    "start_time": "2024-08-15T16:45:50.421Z"
   },
   {
    "duration": 1743,
    "start_time": "2024-08-15T16:45:50.445Z"
   },
   {
    "duration": 0,
    "start_time": "2024-08-15T16:45:52.191Z"
   },
   {
    "duration": 37,
    "start_time": "2024-08-15T16:57:44.316Z"
   },
   {
    "duration": 44,
    "start_time": "2024-08-15T16:57:48.002Z"
   },
   {
    "duration": 12,
    "start_time": "2024-08-15T16:57:51.250Z"
   },
   {
    "duration": 1355,
    "start_time": "2024-08-15T17:01:13.408Z"
   },
   {
    "duration": 12,
    "start_time": "2024-08-15T17:01:14.766Z"
   },
   {
    "duration": 20,
    "start_time": "2024-08-15T17:01:52.810Z"
   },
   {
    "duration": 1247,
    "start_time": "2024-08-15T17:01:56.968Z"
   },
   {
    "duration": 13,
    "start_time": "2024-08-15T17:01:58.697Z"
   },
   {
    "duration": 1349,
    "start_time": "2024-08-15T17:04:37.640Z"
   },
   {
    "duration": 255,
    "start_time": "2024-08-15T17:04:44.561Z"
   },
   {
    "duration": 14,
    "start_time": "2024-08-15T17:04:52.327Z"
   },
   {
    "duration": 157,
    "start_time": "2024-08-15T17:04:54.416Z"
   },
   {
    "duration": 1251,
    "start_time": "2024-08-15T17:05:00.723Z"
   },
   {
    "duration": 185,
    "start_time": "2024-08-15T17:05:01.978Z"
   },
   {
    "duration": 24,
    "start_time": "2024-08-15T17:05:02.166Z"
   },
   {
    "duration": 7,
    "start_time": "2024-08-15T17:05:02.207Z"
   },
   {
    "duration": 11,
    "start_time": "2024-08-15T17:05:02.221Z"
   },
   {
    "duration": 9,
    "start_time": "2024-08-15T17:05:02.237Z"
   },
   {
    "duration": 4,
    "start_time": "2024-08-15T17:05:02.250Z"
   },
   {
    "duration": 63,
    "start_time": "2024-08-15T17:05:02.257Z"
   },
   {
    "duration": 1251,
    "start_time": "2024-08-15T17:05:02.323Z"
   },
   {
    "duration": 14,
    "start_time": "2024-08-15T17:05:03.577Z"
   },
   {
    "duration": 40,
    "start_time": "2024-08-15T17:05:03.605Z"
   },
   {
    "duration": 62,
    "start_time": "2024-08-15T17:05:03.649Z"
   },
   {
    "duration": 427,
    "start_time": "2024-08-15T17:05:03.714Z"
   },
   {
    "duration": 1348,
    "start_time": "2024-08-15T17:05:04.148Z"
   },
   {
    "duration": 253,
    "start_time": "2024-08-15T17:05:05.507Z"
   },
   {
    "duration": 17,
    "start_time": "2024-08-15T17:05:05.764Z"
   },
   {
    "duration": 1258,
    "start_time": "2024-08-15T17:05:05.784Z"
   },
   {
    "duration": 20,
    "start_time": "2024-08-15T17:05:07.045Z"
   },
   {
    "duration": 6,
    "start_time": "2024-08-15T17:05:07.067Z"
   },
   {
    "duration": 12,
    "start_time": "2024-08-15T17:05:07.105Z"
   },
   {
    "duration": 35,
    "start_time": "2024-08-15T17:05:07.120Z"
   },
   {
    "duration": 97,
    "start_time": "2024-08-15T17:05:07.158Z"
   },
   {
    "duration": 29,
    "start_time": "2024-08-15T17:05:07.258Z"
   },
   {
    "duration": 6,
    "start_time": "2024-08-15T17:05:07.306Z"
   },
   {
    "duration": 10,
    "start_time": "2024-08-15T17:05:07.316Z"
   },
   {
    "duration": 4,
    "start_time": "2024-08-15T17:05:07.329Z"
   },
   {
    "duration": 108,
    "start_time": "2024-08-15T17:05:07.337Z"
   },
   {
    "duration": 7,
    "start_time": "2024-08-15T17:05:07.448Z"
   },
   {
    "duration": 2165,
    "start_time": "2024-08-15T17:05:07.457Z"
   },
   {
    "duration": 1315,
    "start_time": "2024-08-15T17:05:47.273Z"
   },
   {
    "duration": 1521,
    "start_time": "2024-08-15T17:05:58.521Z"
   },
   {
    "duration": 417,
    "start_time": "2024-08-15T17:06:33.449Z"
   },
   {
    "duration": 423,
    "start_time": "2024-08-15T17:06:46.720Z"
   },
   {
    "duration": 20,
    "start_time": "2024-08-15T17:09:19.646Z"
   },
   {
    "duration": 20,
    "start_time": "2024-08-15T17:09:58.713Z"
   },
   {
    "duration": 13,
    "start_time": "2024-08-15T17:11:06.743Z"
   },
   {
    "duration": 66,
    "start_time": "2024-08-15T17:16:41.001Z"
   },
   {
    "duration": 63,
    "start_time": "2024-08-15T17:29:53.189Z"
   },
   {
    "duration": 13,
    "start_time": "2024-08-15T17:30:05.215Z"
   },
   {
    "duration": 12,
    "start_time": "2024-08-15T17:30:25.618Z"
   },
   {
    "duration": 248,
    "start_time": "2024-08-15T18:19:18.987Z"
   },
   {
    "duration": 36,
    "start_time": "2024-08-15T18:21:27.411Z"
   },
   {
    "duration": 1271,
    "start_time": "2024-08-15T18:21:48.318Z"
   },
   {
    "duration": 193,
    "start_time": "2024-08-15T18:21:49.593Z"
   },
   {
    "duration": 30,
    "start_time": "2024-08-15T18:21:49.789Z"
   },
   {
    "duration": 7,
    "start_time": "2024-08-15T18:21:49.822Z"
   },
   {
    "duration": 11,
    "start_time": "2024-08-15T18:21:49.834Z"
   },
   {
    "duration": 7,
    "start_time": "2024-08-15T18:21:49.848Z"
   },
   {
    "duration": 4,
    "start_time": "2024-08-15T18:21:49.858Z"
   },
   {
    "duration": 17,
    "start_time": "2024-08-15T18:21:49.907Z"
   },
   {
    "duration": 1246,
    "start_time": "2024-08-15T18:21:49.927Z"
   },
   {
    "duration": 15,
    "start_time": "2024-08-15T18:21:51.175Z"
   },
   {
    "duration": 39,
    "start_time": "2024-08-15T18:21:51.207Z"
   },
   {
    "duration": 437,
    "start_time": "2024-08-15T18:21:51.249Z"
   },
   {
    "duration": 269,
    "start_time": "2024-08-15T18:21:51.688Z"
   },
   {
    "duration": 44,
    "start_time": "2024-08-15T18:21:51.964Z"
   },
   {
    "duration": 440,
    "start_time": "2024-08-15T18:21:52.010Z"
   },
   {
    "duration": 20,
    "start_time": "2024-08-15T18:21:52.453Z"
   },
   {
    "duration": 33,
    "start_time": "2024-08-15T18:21:52.476Z"
   },
   {
    "duration": 36,
    "start_time": "2024-08-15T18:21:52.511Z"
   },
   {
    "duration": 91,
    "start_time": "2024-08-15T18:21:52.550Z"
   },
   {
    "duration": 78,
    "start_time": "2024-08-15T18:21:52.645Z"
   },
   {
    "duration": 29,
    "start_time": "2024-08-15T18:21:52.726Z"
   },
   {
    "duration": 89,
    "start_time": "2024-08-15T18:21:52.758Z"
   },
   {
    "duration": 12,
    "start_time": "2024-08-15T18:21:52.849Z"
   },
   {
    "duration": 9,
    "start_time": "2024-08-15T18:21:52.864Z"
   },
   {
    "duration": 274,
    "start_time": "2024-08-15T18:21:52.876Z"
   },
   {
    "duration": 5,
    "start_time": "2024-08-15T18:21:53.153Z"
   },
   {
    "duration": 28,
    "start_time": "2024-08-15T18:22:48.439Z"
   },
   {
    "duration": 1220,
    "start_time": "2024-08-15T18:22:58.564Z"
   },
   {
    "duration": 186,
    "start_time": "2024-08-15T18:22:59.787Z"
   },
   {
    "duration": 38,
    "start_time": "2024-08-15T18:22:59.976Z"
   },
   {
    "duration": 7,
    "start_time": "2024-08-15T18:23:00.018Z"
   },
   {
    "duration": 10,
    "start_time": "2024-08-15T18:23:00.028Z"
   },
   {
    "duration": 7,
    "start_time": "2024-08-15T18:23:00.041Z"
   },
   {
    "duration": 4,
    "start_time": "2024-08-15T18:23:00.051Z"
   },
   {
    "duration": 62,
    "start_time": "2024-08-15T18:23:00.058Z"
   },
   {
    "duration": 1241,
    "start_time": "2024-08-15T18:23:00.123Z"
   },
   {
    "duration": 14,
    "start_time": "2024-08-15T18:23:01.369Z"
   },
   {
    "duration": 58,
    "start_time": "2024-08-15T18:23:01.387Z"
   },
   {
    "duration": 426,
    "start_time": "2024-08-15T18:23:01.449Z"
   },
   {
    "duration": 263,
    "start_time": "2024-08-15T18:23:01.878Z"
   },
   {
    "duration": 29,
    "start_time": "2024-08-15T18:23:02.145Z"
   },
   {
    "duration": 438,
    "start_time": "2024-08-15T18:23:02.177Z"
   },
   {
    "duration": 19,
    "start_time": "2024-08-15T18:23:02.618Z"
   },
   {
    "duration": 13,
    "start_time": "2024-08-15T18:23:02.640Z"
   },
   {
    "duration": 67,
    "start_time": "2024-08-15T18:23:02.655Z"
   },
   {
    "duration": 86,
    "start_time": "2024-08-15T18:23:02.725Z"
   },
   {
    "duration": 66,
    "start_time": "2024-08-15T18:23:02.814Z"
   },
   {
    "duration": 41,
    "start_time": "2024-08-15T18:23:02.883Z"
   },
   {
    "duration": 80,
    "start_time": "2024-08-15T18:23:02.928Z"
   },
   {
    "duration": 12,
    "start_time": "2024-08-15T18:23:03.011Z"
   },
   {
    "duration": 12,
    "start_time": "2024-08-15T18:23:03.026Z"
   },
   {
    "duration": 11,
    "start_time": "2024-08-15T18:23:03.041Z"
   },
   {
    "duration": 5,
    "start_time": "2024-08-15T18:23:03.055Z"
   },
   {
    "duration": 37,
    "start_time": "2024-08-15T18:27:42.968Z"
   },
   {
    "duration": 61,
    "start_time": "2024-08-15T18:30:36.863Z"
   },
   {
    "duration": 60,
    "start_time": "2024-08-15T18:42:03.974Z"
   },
   {
    "duration": 7,
    "start_time": "2024-08-15T18:42:05.917Z"
   },
   {
    "duration": 55,
    "start_time": "2024-08-15T18:42:44.691Z"
   },
   {
    "duration": 66,
    "start_time": "2024-08-15T18:42:48.052Z"
   },
   {
    "duration": 53,
    "start_time": "2024-08-15T18:43:03.410Z"
   },
   {
    "duration": 7,
    "start_time": "2024-08-15T18:43:07.988Z"
   },
   {
    "duration": 54,
    "start_time": "2024-08-15T18:43:23.837Z"
   },
   {
    "duration": 7,
    "start_time": "2024-08-15T18:43:29.228Z"
   },
   {
    "duration": 9,
    "start_time": "2024-08-15T18:45:56.250Z"
   },
   {
    "duration": 5,
    "start_time": "2024-08-15T18:48:15.820Z"
   },
   {
    "duration": 517,
    "start_time": "2024-08-15T19:07:38.817Z"
   },
   {
    "duration": 136,
    "start_time": "2024-08-15T19:07:58.443Z"
   },
   {
    "duration": 230,
    "start_time": "2024-08-15T19:10:47.860Z"
   },
   {
    "duration": 12,
    "start_time": "2024-08-15T19:18:21.843Z"
   },
   {
    "duration": 36,
    "start_time": "2024-08-15T19:19:35.934Z"
   },
   {
    "duration": 14,
    "start_time": "2024-08-15T19:20:18.129Z"
   },
   {
    "duration": 9,
    "start_time": "2024-08-15T19:20:23.631Z"
   },
   {
    "duration": 23,
    "start_time": "2024-08-15T19:21:45.312Z"
   },
   {
    "duration": 10,
    "start_time": "2024-08-15T19:21:49.044Z"
   },
   {
    "duration": 7,
    "start_time": "2024-08-15T19:22:02.432Z"
   },
   {
    "duration": 767,
    "start_time": "2024-08-15T19:31:22.014Z"
   },
   {
    "duration": 183,
    "start_time": "2024-08-15T19:31:53.470Z"
   },
   {
    "duration": 8,
    "start_time": "2024-08-15T19:32:20.606Z"
   },
   {
    "duration": 6,
    "start_time": "2024-08-15T19:33:07.933Z"
   },
   {
    "duration": 6,
    "start_time": "2024-08-15T19:33:19.311Z"
   },
   {
    "duration": 8,
    "start_time": "2024-08-15T19:33:31.501Z"
   },
   {
    "duration": 10,
    "start_time": "2024-08-15T19:33:37.391Z"
   },
   {
    "duration": 9,
    "start_time": "2024-08-15T19:33:48.213Z"
   },
   {
    "duration": 28,
    "start_time": "2024-08-15T19:36:15.525Z"
   },
   {
    "duration": 148,
    "start_time": "2024-08-15T19:36:31.168Z"
   },
   {
    "duration": 14,
    "start_time": "2024-08-15T19:37:07.728Z"
   },
   {
    "duration": 7,
    "start_time": "2024-08-15T19:37:51.629Z"
   },
   {
    "duration": 275,
    "start_time": "2024-08-15T19:37:55.356Z"
   },
   {
    "duration": 80,
    "start_time": "2024-08-15T19:38:52.420Z"
   },
   {
    "duration": 6,
    "start_time": "2024-08-15T19:40:03.164Z"
   },
   {
    "duration": 821,
    "start_time": "2024-08-15T19:40:05.213Z"
   },
   {
    "duration": 248,
    "start_time": "2024-08-15T19:42:57.118Z"
   },
   {
    "duration": 816,
    "start_time": "2024-08-15T19:43:08.412Z"
   },
   {
    "duration": 824,
    "start_time": "2024-08-15T19:43:34.202Z"
   },
   {
    "duration": 834,
    "start_time": "2024-08-15T19:45:44.141Z"
   },
   {
    "duration": 1268,
    "start_time": "2024-08-15T19:46:47.029Z"
   },
   {
    "duration": 187,
    "start_time": "2024-08-15T19:46:48.301Z"
   },
   {
    "duration": 34,
    "start_time": "2024-08-15T19:46:48.490Z"
   },
   {
    "duration": 8,
    "start_time": "2024-08-15T19:46:48.527Z"
   },
   {
    "duration": 12,
    "start_time": "2024-08-15T19:46:48.540Z"
   },
   {
    "duration": 51,
    "start_time": "2024-08-15T19:46:48.555Z"
   },
   {
    "duration": 4,
    "start_time": "2024-08-15T19:46:48.609Z"
   },
   {
    "duration": 16,
    "start_time": "2024-08-15T19:46:48.618Z"
   },
   {
    "duration": 1288,
    "start_time": "2024-08-15T19:46:48.636Z"
   },
   {
    "duration": 16,
    "start_time": "2024-08-15T19:46:49.927Z"
   },
   {
    "duration": 61,
    "start_time": "2024-08-15T19:46:49.945Z"
   },
   {
    "duration": 430,
    "start_time": "2024-08-15T19:46:50.009Z"
   },
   {
    "duration": 288,
    "start_time": "2024-08-15T19:46:50.442Z"
   },
   {
    "duration": 29,
    "start_time": "2024-08-15T19:46:50.738Z"
   },
   {
    "duration": 443,
    "start_time": "2024-08-15T19:46:50.769Z"
   },
   {
    "duration": 20,
    "start_time": "2024-08-15T19:46:51.216Z"
   },
   {
    "duration": 12,
    "start_time": "2024-08-15T19:46:51.238Z"
   },
   {
    "duration": 68,
    "start_time": "2024-08-15T19:46:51.253Z"
   },
   {
    "duration": 84,
    "start_time": "2024-08-15T19:46:51.323Z"
   },
   {
    "duration": 67,
    "start_time": "2024-08-15T19:46:51.410Z"
   },
   {
    "duration": 45,
    "start_time": "2024-08-15T19:46:51.479Z"
   },
   {
    "duration": 81,
    "start_time": "2024-08-15T19:46:51.528Z"
   },
   {
    "duration": 12,
    "start_time": "2024-08-15T19:46:51.612Z"
   },
   {
    "duration": 36,
    "start_time": "2024-08-15T19:46:51.628Z"
   },
   {
    "duration": 90,
    "start_time": "2024-08-15T19:46:51.667Z"
   },
   {
    "duration": 162,
    "start_time": "2024-08-15T19:46:51.760Z"
   },
   {
    "duration": 15,
    "start_time": "2024-08-15T19:46:51.925Z"
   },
   {
    "duration": 10,
    "start_time": "2024-08-15T19:46:51.943Z"
   },
   {
    "duration": 10,
    "start_time": "2024-08-15T19:46:51.956Z"
   },
   {
    "duration": 43,
    "start_time": "2024-08-15T19:46:51.969Z"
   },
   {
    "duration": 7,
    "start_time": "2024-08-15T19:46:52.015Z"
   },
   {
    "duration": 275,
    "start_time": "2024-08-15T19:46:52.025Z"
   },
   {
    "duration": 846,
    "start_time": "2024-08-15T19:46:52.307Z"
   },
   {
    "duration": 5,
    "start_time": "2024-08-15T19:46:53.155Z"
   },
   {
    "duration": 315,
    "start_time": "2024-08-15T21:21:24.731Z"
   },
   {
    "duration": 5133,
    "start_time": "2024-08-15T21:21:33.652Z"
   },
   {
    "duration": 246,
    "start_time": "2024-08-15T21:21:38.788Z"
   },
   {
    "duration": 28,
    "start_time": "2024-08-15T21:21:39.038Z"
   },
   {
    "duration": 30,
    "start_time": "2024-08-15T21:21:39.071Z"
   },
   {
    "duration": 11,
    "start_time": "2024-08-15T21:21:39.104Z"
   },
   {
    "duration": 8,
    "start_time": "2024-08-15T21:21:39.118Z"
   },
   {
    "duration": 4,
    "start_time": "2024-08-15T21:21:39.129Z"
   },
   {
    "duration": 65,
    "start_time": "2024-08-15T21:21:39.136Z"
   },
   {
    "duration": 1256,
    "start_time": "2024-08-15T21:21:39.207Z"
   },
   {
    "duration": 15,
    "start_time": "2024-08-15T21:21:40.469Z"
   },
   {
    "duration": 52,
    "start_time": "2024-08-15T21:21:40.486Z"
   },
   {
    "duration": 462,
    "start_time": "2024-08-15T21:21:40.541Z"
   },
   {
    "duration": 271,
    "start_time": "2024-08-15T21:21:41.006Z"
   },
   {
    "duration": 44,
    "start_time": "2024-08-15T21:21:41.280Z"
   },
   {
    "duration": 464,
    "start_time": "2024-08-15T21:21:41.327Z"
   },
   {
    "duration": 27,
    "start_time": "2024-08-15T21:21:41.794Z"
   },
   {
    "duration": 14,
    "start_time": "2024-08-15T21:21:41.827Z"
   },
   {
    "duration": 70,
    "start_time": "2024-08-15T21:21:41.843Z"
   },
   {
    "duration": 85,
    "start_time": "2024-08-15T21:21:41.916Z"
   },
   {
    "duration": 67,
    "start_time": "2024-08-15T21:21:42.004Z"
   },
   {
    "duration": 44,
    "start_time": "2024-08-15T21:21:42.074Z"
   },
   {
    "duration": 86,
    "start_time": "2024-08-15T21:21:42.122Z"
   },
   {
    "duration": 13,
    "start_time": "2024-08-15T21:21:42.211Z"
   },
   {
    "duration": 37,
    "start_time": "2024-08-15T21:21:42.228Z"
   },
   {
    "duration": 83,
    "start_time": "2024-08-15T21:21:42.268Z"
   },
   {
    "duration": 162,
    "start_time": "2024-08-15T21:21:42.354Z"
   },
   {
    "duration": 13,
    "start_time": "2024-08-15T21:21:42.520Z"
   },
   {
    "duration": 11,
    "start_time": "2024-08-15T21:21:42.540Z"
   },
   {
    "duration": 11,
    "start_time": "2024-08-15T21:21:42.554Z"
   },
   {
    "duration": 10,
    "start_time": "2024-08-15T21:21:42.603Z"
   },
   {
    "duration": 8,
    "start_time": "2024-08-15T21:21:42.616Z"
   },
   {
    "duration": 304,
    "start_time": "2024-08-15T21:21:42.628Z"
   },
   {
    "duration": 886,
    "start_time": "2024-08-15T21:21:42.936Z"
   },
   {
    "duration": 5,
    "start_time": "2024-08-15T21:21:43.826Z"
   },
   {
    "duration": 4820,
    "start_time": "2024-08-16T14:55:51.628Z"
   },
   {
    "duration": 210,
    "start_time": "2024-08-16T14:55:56.452Z"
   },
   {
    "duration": 24,
    "start_time": "2024-08-16T14:55:56.665Z"
   },
   {
    "duration": 7,
    "start_time": "2024-08-16T14:55:56.692Z"
   },
   {
    "duration": 10,
    "start_time": "2024-08-16T14:55:56.722Z"
   },
   {
    "duration": 8,
    "start_time": "2024-08-16T14:55:56.734Z"
   },
   {
    "duration": 8,
    "start_time": "2024-08-16T14:55:56.745Z"
   },
   {
    "duration": 15,
    "start_time": "2024-08-16T14:55:56.757Z"
   },
   {
    "duration": 1259,
    "start_time": "2024-08-16T14:55:56.775Z"
   },
   {
    "duration": 15,
    "start_time": "2024-08-16T14:55:58.036Z"
   },
   {
    "duration": 41,
    "start_time": "2024-08-16T14:55:58.054Z"
   },
   {
    "duration": 438,
    "start_time": "2024-08-16T14:55:58.123Z"
   },
   {
    "duration": 267,
    "start_time": "2024-08-16T14:55:58.564Z"
   },
   {
    "duration": 29,
    "start_time": "2024-08-16T14:55:58.837Z"
   },
   {
    "duration": 455,
    "start_time": "2024-08-16T14:55:58.868Z"
   },
   {
    "duration": 22,
    "start_time": "2024-08-16T14:55:59.325Z"
   },
   {
    "duration": 13,
    "start_time": "2024-08-16T14:55:59.350Z"
   },
   {
    "duration": 71,
    "start_time": "2024-08-16T14:55:59.367Z"
   },
   {
    "duration": 83,
    "start_time": "2024-08-16T14:55:59.441Z"
   },
   {
    "duration": 67,
    "start_time": "2024-08-16T14:55:59.527Z"
   },
   {
    "duration": 44,
    "start_time": "2024-08-16T14:55:59.596Z"
   },
   {
    "duration": 94,
    "start_time": "2024-08-16T14:55:59.643Z"
   },
   {
    "duration": 13,
    "start_time": "2024-08-16T14:55:59.739Z"
   },
   {
    "duration": 39,
    "start_time": "2024-08-16T14:55:59.754Z"
   },
   {
    "duration": 84,
    "start_time": "2024-08-16T14:55:59.795Z"
   },
   {
    "duration": 162,
    "start_time": "2024-08-16T14:55:59.882Z"
   },
   {
    "duration": 14,
    "start_time": "2024-08-16T14:56:00.047Z"
   },
   {
    "duration": 10,
    "start_time": "2024-08-16T14:56:00.065Z"
   },
   {
    "duration": 45,
    "start_time": "2024-08-16T14:56:00.078Z"
   },
   {
    "duration": 10,
    "start_time": "2024-08-16T14:56:00.126Z"
   },
   {
    "duration": 6,
    "start_time": "2024-08-16T14:56:00.139Z"
   },
   {
    "duration": 292,
    "start_time": "2024-08-16T14:56:00.149Z"
   },
   {
    "duration": 843,
    "start_time": "2024-08-16T14:56:00.443Z"
   },
   {
    "duration": 5,
    "start_time": "2024-08-16T14:56:01.289Z"
   },
   {
    "duration": 1289,
    "start_time": "2024-08-16T14:56:49.695Z"
   },
   {
    "duration": 192,
    "start_time": "2024-08-16T14:56:50.987Z"
   },
   {
    "duration": 24,
    "start_time": "2024-08-16T14:56:51.182Z"
   },
   {
    "duration": 15,
    "start_time": "2024-08-16T14:56:51.209Z"
   },
   {
    "duration": 10,
    "start_time": "2024-08-16T14:56:51.229Z"
   },
   {
    "duration": 7,
    "start_time": "2024-08-16T14:56:51.242Z"
   },
   {
    "duration": 4,
    "start_time": "2024-08-16T14:56:51.252Z"
   },
   {
    "duration": 66,
    "start_time": "2024-08-16T14:56:51.258Z"
   },
   {
    "duration": 1246,
    "start_time": "2024-08-16T14:56:51.327Z"
   },
   {
    "duration": 14,
    "start_time": "2024-08-16T14:56:52.575Z"
   },
   {
    "duration": 55,
    "start_time": "2024-08-16T14:56:52.592Z"
   },
   {
    "duration": 430,
    "start_time": "2024-08-16T14:56:52.650Z"
   },
   {
    "duration": 263,
    "start_time": "2024-08-16T14:56:53.083Z"
   },
   {
    "duration": 29,
    "start_time": "2024-08-16T14:56:53.352Z"
   },
   {
    "duration": 442,
    "start_time": "2024-08-16T14:56:53.384Z"
   },
   {
    "duration": 18,
    "start_time": "2024-08-16T14:56:53.829Z"
   },
   {
    "duration": 13,
    "start_time": "2024-08-16T14:56:53.850Z"
   },
   {
    "duration": 71,
    "start_time": "2024-08-16T14:56:53.866Z"
   },
   {
    "duration": 67,
    "start_time": "2024-08-16T14:56:53.940Z"
   },
   {
    "duration": 68,
    "start_time": "2024-08-16T14:56:54.023Z"
   },
   {
    "duration": 44,
    "start_time": "2024-08-16T14:56:54.094Z"
   },
   {
    "duration": 81,
    "start_time": "2024-08-16T14:56:54.142Z"
   },
   {
    "duration": 12,
    "start_time": "2024-08-16T14:56:54.225Z"
   },
   {
    "duration": 38,
    "start_time": "2024-08-16T14:56:54.240Z"
   },
   {
    "duration": 83,
    "start_time": "2024-08-16T14:56:54.280Z"
   },
   {
    "duration": 160,
    "start_time": "2024-08-16T14:56:54.366Z"
   },
   {
    "duration": 14,
    "start_time": "2024-08-16T14:56:54.529Z"
   },
   {
    "duration": 12,
    "start_time": "2024-08-16T14:56:54.546Z"
   },
   {
    "duration": 10,
    "start_time": "2024-08-16T14:56:54.561Z"
   },
   {
    "duration": 50,
    "start_time": "2024-08-16T14:56:54.574Z"
   },
   {
    "duration": 7,
    "start_time": "2024-08-16T14:56:54.627Z"
   },
   {
    "duration": 272,
    "start_time": "2024-08-16T14:56:54.637Z"
   },
   {
    "duration": 857,
    "start_time": "2024-08-16T14:56:54.912Z"
   },
   {
    "duration": 5,
    "start_time": "2024-08-16T14:56:55.772Z"
   },
   {
    "duration": 6,
    "start_time": "2024-08-16T15:06:54.278Z"
   },
   {
    "duration": 28,
    "start_time": "2024-08-16T16:36:11.596Z"
   },
   {
    "duration": 8,
    "start_time": "2024-08-16T16:36:19.989Z"
   },
   {
    "duration": 8,
    "start_time": "2024-08-16T16:36:26.769Z"
   },
   {
    "duration": 35,
    "start_time": "2024-08-16T16:42:57.948Z"
   },
   {
    "duration": 409,
    "start_time": "2024-08-16T17:32:11.497Z"
   },
   {
    "duration": 62,
    "start_time": "2024-08-16T17:32:33.863Z"
   },
   {
    "duration": 14,
    "start_time": "2024-08-16T17:33:00.247Z"
   },
   {
    "duration": 22,
    "start_time": "2024-08-16T17:33:24.385Z"
   },
   {
    "duration": 5,
    "start_time": "2024-08-16T17:33:28.929Z"
   },
   {
    "duration": 14,
    "start_time": "2024-08-16T17:33:36.472Z"
   },
   {
    "duration": 177,
    "start_time": "2024-08-16T17:40:13.601Z"
   },
   {
    "duration": 171,
    "start_time": "2024-08-16T17:43:13.464Z"
   },
   {
    "duration": 4,
    "start_time": "2024-08-16T17:50:02.106Z"
   },
   {
    "duration": 5,
    "start_time": "2024-08-16T17:50:07.829Z"
   },
   {
    "duration": 10,
    "start_time": "2024-08-16T18:17:07.088Z"
   },
   {
    "duration": 1280,
    "start_time": "2024-08-16T18:21:31.709Z"
   },
   {
    "duration": 183,
    "start_time": "2024-08-16T18:21:32.993Z"
   },
   {
    "duration": 25,
    "start_time": "2024-08-16T18:21:33.179Z"
   },
   {
    "duration": 19,
    "start_time": "2024-08-16T18:21:33.207Z"
   },
   {
    "duration": 10,
    "start_time": "2024-08-16T18:21:33.230Z"
   },
   {
    "duration": 7,
    "start_time": "2024-08-16T18:21:33.243Z"
   },
   {
    "duration": 4,
    "start_time": "2024-08-16T18:21:33.254Z"
   },
   {
    "duration": 65,
    "start_time": "2024-08-16T18:21:33.262Z"
   },
   {
    "duration": 1258,
    "start_time": "2024-08-16T18:21:33.330Z"
   },
   {
    "duration": 28,
    "start_time": "2024-08-16T18:21:34.594Z"
   },
   {
    "duration": 30,
    "start_time": "2024-08-16T18:21:34.625Z"
   },
   {
    "duration": 11,
    "start_time": "2024-08-16T18:21:34.658Z"
   },
   {
    "duration": 8,
    "start_time": "2024-08-16T18:21:34.672Z"
   },
   {
    "duration": 460,
    "start_time": "2024-08-16T18:21:34.683Z"
   },
   {
    "duration": 271,
    "start_time": "2024-08-16T18:21:35.146Z"
   },
   {
    "duration": 29,
    "start_time": "2024-08-16T18:21:35.424Z"
   },
   {
    "duration": 457,
    "start_time": "2024-08-16T18:21:35.456Z"
   },
   {
    "duration": 20,
    "start_time": "2024-08-16T18:21:35.923Z"
   },
   {
    "duration": 13,
    "start_time": "2024-08-16T18:21:35.947Z"
   },
   {
    "duration": 66,
    "start_time": "2024-08-16T18:21:35.963Z"
   },
   {
    "duration": 64,
    "start_time": "2024-08-16T18:21:36.032Z"
   },
   {
    "duration": 79,
    "start_time": "2024-08-16T18:21:36.099Z"
   },
   {
    "duration": 42,
    "start_time": "2024-08-16T18:21:36.181Z"
   },
   {
    "duration": 65,
    "start_time": "2024-08-16T18:21:36.226Z"
   },
   {
    "duration": 31,
    "start_time": "2024-08-16T18:21:36.294Z"
   },
   {
    "duration": 13,
    "start_time": "2024-08-16T18:21:36.328Z"
   },
   {
    "duration": 293,
    "start_time": "2024-08-16T18:21:36.344Z"
   },
   {
    "duration": 37,
    "start_time": "2024-08-16T18:21:36.645Z"
   },
   {
    "duration": 95,
    "start_time": "2024-08-16T18:21:36.685Z"
   },
   {
    "duration": 162,
    "start_time": "2024-08-16T18:21:36.783Z"
   },
   {
    "duration": 14,
    "start_time": "2024-08-16T18:21:36.947Z"
   },
   {
    "duration": 12,
    "start_time": "2024-08-16T18:21:36.965Z"
   },
   {
    "duration": 9,
    "start_time": "2024-08-16T18:21:36.980Z"
   },
   {
    "duration": 10,
    "start_time": "2024-08-16T18:21:37.024Z"
   },
   {
    "duration": 7,
    "start_time": "2024-08-16T18:21:37.038Z"
   },
   {
    "duration": 400,
    "start_time": "2024-08-16T18:21:37.049Z"
   },
   {
    "duration": 1180,
    "start_time": "2024-08-16T18:21:37.451Z"
   },
   {
    "duration": 6,
    "start_time": "2024-08-16T18:21:38.634Z"
   },
   {
    "duration": 1289,
    "start_time": "2024-08-17T18:46:39.064Z"
   },
   {
    "duration": 198,
    "start_time": "2024-08-17T18:46:40.357Z"
   },
   {
    "duration": 26,
    "start_time": "2024-08-17T18:46:40.558Z"
   },
   {
    "duration": 6,
    "start_time": "2024-08-17T18:46:40.588Z"
   },
   {
    "duration": 12,
    "start_time": "2024-08-17T18:46:40.597Z"
   },
   {
    "duration": 7,
    "start_time": "2024-08-17T18:46:40.612Z"
   },
   {
    "duration": 46,
    "start_time": "2024-08-17T18:46:40.623Z"
   },
   {
    "duration": 16,
    "start_time": "2024-08-17T18:46:40.672Z"
   },
   {
    "duration": 1222,
    "start_time": "2024-08-17T18:46:40.691Z"
   },
   {
    "duration": 16,
    "start_time": "2024-08-17T18:46:41.918Z"
   },
   {
    "duration": 51,
    "start_time": "2024-08-17T18:46:41.937Z"
   },
   {
    "duration": 9,
    "start_time": "2024-08-17T18:46:41.991Z"
   },
   {
    "duration": 8,
    "start_time": "2024-08-17T18:46:42.004Z"
   },
   {
    "duration": 463,
    "start_time": "2024-08-17T18:46:42.015Z"
   },
   {
    "duration": 270,
    "start_time": "2024-08-17T18:46:42.483Z"
   },
   {
    "duration": 36,
    "start_time": "2024-08-17T18:46:42.756Z"
   },
   {
    "duration": 438,
    "start_time": "2024-08-17T18:46:42.795Z"
   },
   {
    "duration": 32,
    "start_time": "2024-08-17T18:46:43.236Z"
   },
   {
    "duration": 13,
    "start_time": "2024-08-17T18:46:43.271Z"
   },
   {
    "duration": 37,
    "start_time": "2024-08-17T18:46:43.287Z"
   },
   {
    "duration": 92,
    "start_time": "2024-08-17T18:46:43.327Z"
   },
   {
    "duration": 87,
    "start_time": "2024-08-17T18:46:43.422Z"
   },
   {
    "duration": 28,
    "start_time": "2024-08-17T18:46:43.511Z"
   },
   {
    "duration": 80,
    "start_time": "2024-08-17T18:46:43.543Z"
   },
   {
    "duration": 11,
    "start_time": "2024-08-17T18:46:43.626Z"
   },
   {
    "duration": 33,
    "start_time": "2024-08-17T18:46:43.641Z"
   },
   {
    "duration": 178,
    "start_time": "2024-08-17T18:46:43.677Z"
   },
   {
    "duration": 37,
    "start_time": "2024-08-17T18:46:43.867Z"
   },
   {
    "duration": 71,
    "start_time": "2024-08-17T18:46:43.908Z"
   },
   {
    "duration": 161,
    "start_time": "2024-08-17T18:46:43.982Z"
   },
   {
    "duration": 24,
    "start_time": "2024-08-17T18:46:44.146Z"
   },
   {
    "duration": 12,
    "start_time": "2024-08-17T18:46:44.175Z"
   },
   {
    "duration": 11,
    "start_time": "2024-08-17T18:46:44.191Z"
   },
   {
    "duration": 9,
    "start_time": "2024-08-17T18:46:44.205Z"
   },
   {
    "duration": 52,
    "start_time": "2024-08-17T18:46:44.217Z"
   },
   {
    "duration": 267,
    "start_time": "2024-08-17T18:46:44.272Z"
   },
   {
    "duration": 883,
    "start_time": "2024-08-17T18:46:44.541Z"
   },
   {
    "duration": 9,
    "start_time": "2024-08-17T18:46:45.427Z"
   },
   {
    "duration": 5,
    "start_time": "2024-08-17T18:48:50.960Z"
   },
   {
    "duration": 182,
    "start_time": "2024-08-17T18:48:50.969Z"
   },
   {
    "duration": 27,
    "start_time": "2024-08-17T18:48:51.154Z"
   },
   {
    "duration": 6,
    "start_time": "2024-08-17T18:48:51.184Z"
   },
   {
    "duration": 10,
    "start_time": "2024-08-17T18:48:51.196Z"
   },
   {
    "duration": 8,
    "start_time": "2024-08-17T18:48:51.209Z"
   },
   {
    "duration": 49,
    "start_time": "2024-08-17T18:48:51.220Z"
   },
   {
    "duration": 13,
    "start_time": "2024-08-17T18:48:51.272Z"
   },
   {
    "duration": 1252,
    "start_time": "2024-08-17T18:48:51.288Z"
   },
   {
    "duration": 25,
    "start_time": "2024-08-17T18:48:52.543Z"
   },
   {
    "duration": 30,
    "start_time": "2024-08-17T18:48:52.572Z"
   },
   {
    "duration": 11,
    "start_time": "2024-08-17T18:48:52.605Z"
   },
   {
    "duration": 50,
    "start_time": "2024-08-17T18:48:52.619Z"
   },
   {
    "duration": 525,
    "start_time": "2024-08-17T18:48:52.678Z"
   },
   {
    "duration": 255,
    "start_time": "2024-08-17T18:48:53.206Z"
   },
   {
    "duration": 26,
    "start_time": "2024-08-17T18:48:53.468Z"
   },
   {
    "duration": 444,
    "start_time": "2024-08-17T18:48:53.497Z"
   },
   {
    "duration": 37,
    "start_time": "2024-08-17T18:48:53.944Z"
   },
   {
    "duration": 15,
    "start_time": "2024-08-17T18:48:53.984Z"
   },
   {
    "duration": 34,
    "start_time": "2024-08-17T18:48:54.002Z"
   },
   {
    "duration": 67,
    "start_time": "2024-08-17T18:48:54.068Z"
   },
   {
    "duration": 85,
    "start_time": "2024-08-17T18:48:54.138Z"
   },
   {
    "duration": 43,
    "start_time": "2024-08-17T18:48:54.227Z"
   },
   {
    "duration": 102,
    "start_time": "2024-08-17T18:48:54.273Z"
   },
   {
    "duration": 17,
    "start_time": "2024-08-17T18:48:54.379Z"
   },
   {
    "duration": 13,
    "start_time": "2024-08-17T18:48:54.399Z"
   },
   {
    "duration": 246,
    "start_time": "2024-08-17T18:48:54.416Z"
   },
   {
    "duration": 40,
    "start_time": "2024-08-17T18:48:54.669Z"
   },
   {
    "duration": 79,
    "start_time": "2024-08-17T18:48:54.712Z"
   },
   {
    "duration": 159,
    "start_time": "2024-08-17T18:48:54.795Z"
   },
   {
    "duration": 22,
    "start_time": "2024-08-17T18:48:54.957Z"
   },
   {
    "duration": 11,
    "start_time": "2024-08-17T18:48:54.982Z"
   },
   {
    "duration": 12,
    "start_time": "2024-08-17T18:48:54.997Z"
   },
   {
    "duration": 10,
    "start_time": "2024-08-17T18:48:55.011Z"
   },
   {
    "duration": 48,
    "start_time": "2024-08-17T18:48:55.024Z"
   },
   {
    "duration": 270,
    "start_time": "2024-08-17T18:48:55.076Z"
   },
   {
    "duration": 870,
    "start_time": "2024-08-17T18:48:55.352Z"
   },
   {
    "duration": 5,
    "start_time": "2024-08-17T18:48:56.225Z"
   },
   {
    "duration": 15,
    "start_time": "2024-08-17T18:50:00.659Z"
   },
   {
    "duration": 4,
    "start_time": "2024-08-17T18:50:04.307Z"
   }
  ],
  "kernelspec": {
   "display_name": "Python 3 (ipykernel)",
   "language": "python",
   "name": "python3"
  },
  "language_info": {
   "codemirror_mode": {
    "name": "ipython",
    "version": 3
   },
   "file_extension": ".py",
   "mimetype": "text/x-python",
   "name": "python",
   "nbconvert_exporter": "python",
   "pygments_lexer": "ipython3",
   "version": "3.11.7"
  },
  "toc": {
   "base_numbering": 1,
   "nav_menu": {},
   "number_sections": true,
   "sideBar": true,
   "skip_h1_title": true,
   "title_cell": "Table of Contents",
   "title_sidebar": "Contents",
   "toc_cell": false,
   "toc_position": {
    "height": "calc(100% - 180px)",
    "left": "10px",
    "top": "150px",
    "width": "191px"
   },
   "toc_section_display": true,
   "toc_window_display": true
  }
 },
 "nbformat": 4,
 "nbformat_minor": 4
}
